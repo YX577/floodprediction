{
 "cells": [
  {
   "cell_type": "markdown",
   "metadata": {},
   "source": [
    "# Flood Prediction Model 2 - Hourly Discharge at multiple basins\n",
    "\n",
    "The Objective of this notebook is to create a flood prediction model for multiple basins. We will use hourly rainfall data and an hourly discharge as the target time series and a single hourly rainfall time series as input variable for multiple basins. Training multiple timeseries data on the same networks makes DeepAR more effective. This model will be used for comparision with [RORB](https://www.monash.edu/engineering/departments/civil/research/themes/water/rorb)’s predictions.\n",
    "\n",
    "## Benchmark Model\n",
    "\n",
    "[RORB](https://www.monash.edu/engineering/departments/civil/research/themes/water/rorb) model is generally employed for calculating design flood discharges. It uses many assumptions and is manually calibrated to one flooding event. This will be used as benchmark model for comparison purpose.\n",
    "\n",
    "## Data Set\n",
    "The hydrological data available at [Queensland Water Monitoring Information Portal](https://water-monitoring.information.qld.gov.au/) will be used. Hourly as well as daily water flow data is available at various stations. Rainfall data is available in some of the stations. For the Caboolture River, only single discharge and rainfal station is available. \n",
    "\n",
    "\n",
    "\n",
    "### Work Workflow\n",
    "\n",
    "* Preprocessing and exploring the data\n",
    "* Creating training and test sets of time series\n",
    "* Formatting data as JSON files and uploading to S3\n",
    "* Instantiating and training a DeepAR estimator\n",
    "* Deploying a model and creating a predictor\n",
    "* Comparing the Predictor with RORB's performance"
   ]
  },
  {
   "cell_type": "markdown",
   "metadata": {},
   "source": [
    "# Preprocessing and exploring the data\n",
    "\n",
    "The raw data for Caboolture River is available at raw_data/Caboolture folder. "
   ]
  },
  {
   "cell_type": "code",
   "execution_count": 1,
   "metadata": {},
   "outputs": [],
   "source": [
    "import os\n",
    "import numpy as np\n",
    "import pandas as pd\n",
    "import matplotlib.pyplot as plt\n",
    "import datetime\n",
    "%matplotlib inline\n",
    "\n",
    "from utility import unzip_ts_data, read_ts_data, series_to_json, clean_ts_data, write_json_dataset\n"
   ]
  },
  {
   "cell_type": "code",
   "execution_count": 2,
   "metadata": {},
   "outputs": [
    {
     "name": "stdout",
     "output_type": "stream",
     "text": [
      "./raw_data/Caboolture/142001A_20191103_rain\n",
      "unzipped 142001A_20191103_rain.zip!\n",
      "./raw_data/Caboolture/142001A_20191103_flow\n",
      "unzipped 142001A_20191103_flow.zip!\n",
      "./raw_data/Maroochy/141004B_20191110_rain\n",
      "unzipped 141004B_20191110_rain.zip!\n",
      "./raw_data/Maroochy/141004B_20200131_flow\n",
      "unzipped 141004B_20200131_flow.zip!\n",
      "./raw_data/Burdekin/Streamflow/120207A_20191103_flow\n",
      "unzipped 120207A_20191103_flow.zip!\n",
      "./raw_data/Burdekin/Streamflow/120106B_20191103_rain\n",
      "unzipped 120106B_20191103_rain.zip!\n",
      "./raw_data/Burdekin/Streamflow/120112A_20191103_rain\n",
      "unzipped 120112A_20191103_rain.zip!\n",
      "./raw_data/Burdekin/Streamflow/120107B_20191103_rain\n",
      "unzipped 120107B_20191103_rain.zip!\n",
      "./raw_data/Burdekin/Streamflow/120207A_20191103_rain\n",
      "unzipped 120207A_20191103_rain.zip!\n",
      "./raw_data/Burdekin/Streamflow/120102A_20191103_flow\n",
      "unzipped 120102A_20191103_flow.zip!\n",
      "./raw_data/Burdekin/Streamflow/120112A_20191103_flow\n",
      "unzipped 120112A_20191103_flow.zip!\n",
      "./raw_data/Burdekin/Streamflow/120110A_20191103_flow\n",
      "unzipped 120110A_20191103_flow.zip!\n",
      "./raw_data/Burdekin/Streamflow/120205A_20191103_flow\n",
      "unzipped 120205A_20191103_flow.zip!\n",
      "./raw_data/Burdekin/Streamflow/120102A_20191103_rain\n",
      "unzipped 120102A_20191103_rain.zip!\n",
      "./raw_data/Burdekin/Streamflow/120107B_20200131_flow\n",
      "unzipped 120107B_20200131_flow.zip!\n",
      "./raw_data/Burdekin/Streamflow/120106B_20191103_flow\n",
      "unzipped 120106B_20191103_flow.zip!\n",
      "./raw_data/Burdekin/Streamflow/120205A_20200131_rain\n",
      "unzipped 120205A_20200131_rain.zip!\n",
      "./raw_data/Burdekin/Streamflow/120110A_20191103_rain\n",
      "unzipped 120110A_20191103_rain.zip!\n"
     ]
    }
   ],
   "source": [
    "# Read target (flow) and feature (rain) data\n",
    "\n",
    "# Unzip the data and get list of csv paths\n",
    "cabooltre_csv_paths = unzip_ts_data('./raw_data/Caboolture')\n",
    "maroochy_csv_paths = unzip_ts_data('./raw_data/Maroochy')\n",
    "burdekin_csv_paths = unzip_ts_data('./raw_data/Burdekin/Streamflow')\n",
    "\n",
    "all_csv_paths = cabooltre_csv_paths + maroochy_csv_paths + burdekin_csv_paths\n",
    "\n",
    "\n",
    "        \n"
   ]
  },
  {
   "cell_type": "code",
   "execution_count": 3,
   "metadata": {},
   "outputs": [],
   "source": [
    "import re\n",
    "\n",
    "# Loop through each path and extract the station and data type (rain vs flow), and store in a dictioinary\n",
    "\n",
    "all_stn_data = {}\n",
    "for csv_path in all_csv_paths:\n",
    "    stn_name = re.search(r\"/([A-Z0-9]*).csv\", csv_path).group(1)\n",
    "    # create station dictionary if it doesn't exist\n",
    "    if stn_name not in all_stn_data:\n",
    "        all_stn_data[stn_name] = {}\n",
    "    # Read appropriate data \n",
    "    if re.search(r\"_flow/\", csv_path):\n",
    "        all_stn_data[stn_name][\"flow\"] = csv_path\n",
    "    elif re.search(r\"_rain/\", csv_path):\n",
    "        all_stn_data[stn_name][\"rain\"] = csv_path\n",
    "        \n",
    "\n",
    "for key, stn in all_stn_data.items():\n",
    "    if len(stn) < 2:\n",
    "        del all_stn_data[key]\n",
    "\n"
   ]
  },
  {
   "cell_type": "code",
   "execution_count": 4,
   "metadata": {},
   "outputs": [
    {
     "name": "stderr",
     "output_type": "stream",
     "text": [
      "/home/ec2-user/anaconda3/envs/amazonei_mxnet_p36/lib/python3.6/site-packages/pandas/core/frame.py:4025: SettingWithCopyWarning: \n",
      "A value is trying to be set on a copy of a slice from a DataFrame\n",
      "\n",
      "See the caveats in the documentation: http://pandas.pydata.org/pandas-docs/stable/indexing.html#indexing-view-versus-copy\n",
      "  return super(DataFrame, self).rename(**kwargs)\n"
     ]
    },
    {
     "name": "stdout",
     "output_type": "stream",
     "text": [
      "model2_json_data/train.json saved.\n",
      "model2_json_data/test.json saved.\n",
      "142001A\n",
      "model2_json_data/train.json saved.\n",
      "model2_json_data/test.json saved.\n",
      "141004B\n",
      "model2_json_data/train.json saved.\n",
      "model2_json_data/test.json saved.\n",
      "120207A\n",
      "model2_json_data/train.json saved.\n",
      "model2_json_data/test.json saved.\n",
      "120106B\n",
      "model2_json_data/train.json saved.\n",
      "model2_json_data/test.json saved.\n",
      "120112A\n",
      "model2_json_data/train.json saved.\n",
      "model2_json_data/test.json saved.\n",
      "120107B\n",
      "model2_json_data/train.json saved.\n",
      "model2_json_data/test.json saved.\n",
      "120102A\n",
      "model2_json_data/train.json saved.\n",
      "model2_json_data/test.json saved.\n",
      "120110A\n",
      "model2_json_data/train.json saved.\n",
      "model2_json_data/test.json saved.\n",
      "120205A\n"
     ]
    }
   ],
   "source": [
    "prediction_length = 24\n",
    "\n",
    "# save this data to a local directory\n",
    "data_dir = 'model2_json_data'\n",
    "\n",
    "# make data dir, if it does not exist\n",
    "if not os.path.exists(data_dir):\n",
    "    os.makedirs(data_dir)\n",
    "\n",
    "# directories to save train/test data\n",
    "train_path = os.path.join(data_dir, 'train.json')\n",
    "test_path = os.path.join(data_dir, 'test.json')\n",
    "val_path = os.path.join(data_dir, 'val.json')\n",
    "\n",
    "if os.path.isfile(train_path):\n",
    "    os.remove(train_path)\n",
    "    \n",
    "if os.path.isfile(test_path):\n",
    "    os.remove(test_path)\n",
    "\n",
    "for cat, (key, stn) in enumerate(all_stn_data.items()):\n",
    "    # Update category number (index)\n",
    "    stn[\"cat\"] = cat\n",
    "    # Read flow and rain data\n",
    "    target_ts_data = read_ts_data(stn[\"flow\"], value_cols = [\"Mean\"], prefix = \"flow\")\n",
    "    rain_ts_data = read_ts_data(stn[\"rain\"], value_cols = [\"Total\"], prefix = \"rain\")\n",
    "    # join both the data\n",
    "    main_ts_data = target_ts_data.join(rain_ts_data)\n",
    "    # Clean the data\n",
    "    ts_s = clean_ts_data(main_ts_data, datetime.timedelta(hours=1), 5*prediction_length)\n",
    "    \n",
    "    # Split data into training and test set\n",
    "    ts_train = []\n",
    "    ts_test = []\n",
    "    for ts in ts_s:\n",
    "        if ts.index[0] <= pd.Timestamp('2005-01-01 00:00:00'):\n",
    "            ts_train.append(ts)\n",
    "        else:\n",
    "            ts_test.append(ts)\n",
    "    # Save the test data in the dictionary\n",
    "    stn[\"ts_test\"] = ts_test\n",
    "    \n",
    "    # Write test and train data to json file\n",
    "    write_json_dataset(ts_train, \"flowMean\", train_path, cat = cat)        \n",
    "    write_json_dataset(ts_test, \"flowMean\", test_path, cat = cat)\n",
    "    print(key)\n",
    "    "
   ]
  },
  {
   "cell_type": "markdown",
   "metadata": {},
   "source": [
    "# Uploading data to S3\n",
    "\n"
   ]
  },
  {
   "cell_type": "code",
   "execution_count": 5,
   "metadata": {},
   "outputs": [],
   "source": [
    "import boto3\n",
    "import sagemaker\n",
    "from sagemaker import get_execution_role"
   ]
  },
  {
   "cell_type": "code",
   "execution_count": 6,
   "metadata": {},
   "outputs": [],
   "source": [
    "# session, role, bucket\n",
    "sagemaker_session = sagemaker.Session()\n",
    "role = get_execution_role()\n",
    "\n",
    "bucket = sagemaker_session.default_bucket()\n",
    "\n",
    "prefix='flood-prediction-multiple-basin'"
   ]
  },
  {
   "cell_type": "markdown",
   "metadata": {},
   "source": [
    "Upload training data to a location in S3, and save that location to train_path\n",
    "Upload test data to a location in S3, and save that location to test_path"
   ]
  },
  {
   "cell_type": "code",
   "execution_count": 7,
   "metadata": {},
   "outputs": [],
   "source": [
    "\n",
    "\n",
    "# *unique* train/test prefixes\n",
    "train_prefix   = '{}/{}'.format(prefix, 'train')\n",
    "test_prefix    = '{}/{}'.format(prefix, 'test')\n",
    "\n",
    "# uploading data to S3, and saving locations\n",
    "train_s3_path  = sagemaker_session.upload_data(train_path, bucket=bucket, key_prefix=train_prefix)\n",
    "test_s3_path   = sagemaker_session.upload_data(test_path,  bucket=bucket, key_prefix=test_prefix)"
   ]
  },
  {
   "cell_type": "code",
   "execution_count": 9,
   "metadata": {},
   "outputs": [
    {
     "name": "stdout",
     "output_type": "stream",
     "text": [
      "Training data is stored in: s3://sagemaker-ap-southeast-2-990878777707/flood-prediction-multiple-basin/train/train.json\n",
      "Test data is stored in: s3://sagemaker-ap-southeast-2-990878777707/flood-prediction-multiple-basin/test/test.json\n"
     ]
    }
   ],
   "source": [
    "# check locations\n",
    "print('Training data is stored in: '+ train_s3_path)\n",
    "print('Test data is stored in: '+ test_s3_path)"
   ]
  },
  {
   "cell_type": "markdown",
   "metadata": {},
   "source": [
    "---\n",
    "# Training a DeepAR Estimator\n",
    "\n",
    "Some estimators have specific, SageMaker constructors, but not all. Instead you can create a base `Estimator` and pass in the specific image (or container) that holds a specific model.\n",
    "\n",
    "Next, we configure the container image to be used for the region that we are running in."
   ]
  },
  {
   "cell_type": "code",
   "execution_count": 10,
   "metadata": {},
   "outputs": [],
   "source": [
    "from sagemaker.amazon.amazon_estimator import get_image_uri\n",
    "\n",
    "image_name = get_image_uri(boto3.Session().region_name, # get the region\n",
    "                           'forecasting-deepar') # specify image\n"
   ]
  },
  {
   "cell_type": "markdown",
   "metadata": {},
   "source": [
    "### Instantiate an Estimator \n",
    "\n",
    "You can now define the estimator that will launch the training job. A generic Estimator will be defined by the usual constructor arguments and an `image_name`. \n",
    "> You can take a look at the [estimator source code](https://github.com/aws/sagemaker-python-sdk/blob/master/src/sagemaker/estimator.py#L595) to view specifics.\n"
   ]
  },
  {
   "cell_type": "code",
   "execution_count": 11,
   "metadata": {},
   "outputs": [],
   "source": [
    "from sagemaker.estimator import Estimator\n",
    "\n",
    "# dir to save model artifacts\n",
    "s3_output_path = \"s3://{}/{}/output\".format(bucket, prefix)\n",
    "\n",
    "# instantiate a DeepAR estimator\n",
    "estimator = Estimator(sagemaker_session=sagemaker_session,\n",
    "                      image_name=image_name,\n",
    "                      role=role,\n",
    "                      train_instance_count=1,\n",
    "                      train_instance_type='ml.m4.xlarge',\n",
    "                      output_path=s3_output_path\n",
    "                      )\n"
   ]
  },
  {
   "cell_type": "markdown",
   "metadata": {},
   "source": [
    "## Setting Hyperparameters\n",
    "\n",
    "Next, we need to define some DeepAR hyperparameters that define the model size and training behavior. Values for the epochs, frequency, prediction length, and context length are required.\n",
    "\n",
    "* **epochs**: The maximum number of times to pass over the data when training.\n",
    "* **time_freq**: The granularity of the time series in the dataset ('D' for daily).\n",
    "* **prediction_length**: A string; the number of time steps (based off the unit of frequency) that the model is trained to predict. \n",
    "* **context_length**: The number of time points that the model gets to see *before* making a prediction. \n",
    "\n",
    "### Context Length\n",
    "\n",
    "Typically, it is recommended that you start with a `context_length`=`prediction_length`. This is because a DeepAR model also receives \"lagged\" inputs from the target time series, which allow the model to capture long-term dependencies. For example, a daily time series can have yearly seasonality and DeepAR automatically includes a lag of one year. So, the context length can be shorter than a year, and the model will still be able to capture this seasonality. \n",
    "\n",
    "The lag values that the model picks depend on the frequency of the time series. For example, lag values for daily frequency are the previous week, 2 weeks, 3 weeks, 4 weeks, and year. You can read more about this in the [DeepAR \"how it works\" documentation](https://docs.aws.amazon.com/sagemaker/latest/dg/deepar_how-it-works.html).\n",
    "\n",
    "### Optional Hyperparameters\n",
    "\n",
    "You can also configure optional hyperparameters to further tune your model. These include parameters like the number of layers in our RNN model, the number of cells per layer, the likelihood function, and the training options, such as batch size and learning rate. \n",
    "\n",
    "For an exhaustive list of all the different DeepAR hyperparameters you can refer to the DeepAR [hyperparameter documentation](https://docs.aws.amazon.com/sagemaker/latest/dg/deepar_hyperparameters.html)."
   ]
  },
  {
   "cell_type": "markdown",
   "metadata": {},
   "source": [
    "## Training Job\n",
    "\n",
    "Now, we are ready to launch the training job! SageMaker will start an EC2 instance, download the data from S3, start training the model and save the trained model.\n",
    "\n",
    "If you provide the `test` data channel, as we do in this example, DeepAR will also calculate accuracy metrics for the trained model on this test data set. This is done by predicting the last `prediction_length` points of each time series in the test set and comparing this to the *actual* value of the time series. The computed error metrics will be included as part of the log output.\n",
    "\n",
    "The next cell may take a few minutes to complete, depending on data size, model complexity, and training options."
   ]
  },
  {
   "cell_type": "markdown",
   "metadata": {},
   "source": [
    "# Training the final model"
   ]
  },
  {
   "cell_type": "code",
   "execution_count": 12,
   "metadata": {},
   "outputs": [],
   "source": [
    "freq='H'\n",
    "context_length=24 # same as prediction_length\n",
    "\n",
    "hyperparameters = {\n",
    "    \"epochs\": \"995\",\n",
    "    \"time_freq\": freq,\n",
    "    \"prediction_length\": str(prediction_length),\n",
    "    \"context_length\": str(context_length),\n",
    "    \"num_cells\": \"95\",\n",
    "    \"num_layers\": \"7\",\n",
    "    \"mini_batch_size\": \"74\",\n",
    "    \"learning_rate\": \"0.0057\",\n",
    "    \"dropout_rate\" : \"0.1\"\n",
    "}"
   ]
  },
  {
   "cell_type": "code",
   "execution_count": 13,
   "metadata": {},
   "outputs": [],
   "source": [
    "# set the hyperparams\n",
    "estimator.set_hyperparameters(**hyperparameters)"
   ]
  },
  {
   "cell_type": "code",
   "execution_count": null,
   "metadata": {},
   "outputs": [
    {
     "name": "stdout",
     "output_type": "stream",
     "text": [
      "2020-01-31 15:02:46 Starting - Starting the training job...\n",
      "2020-01-31 15:02:48 Starting - Launching requested ML instances......\n",
      "2020-01-31 15:03:48 Starting - Preparing the instances for training...\n",
      "2020-01-31 15:04:43 Downloading - Downloading input data.."
     ]
    }
   ],
   "source": [
    "%%time\n",
    "# train and test channels\n",
    "data_channels = {\n",
    "    \"train\": train_s3_path,\n",
    "    \"test\": test_s3_path\n",
    "}\n",
    "\n",
    "# fit the estimator\n",
    "estimator.fit(inputs=data_channels)"
   ]
  },
  {
   "cell_type": "markdown",
   "metadata": {},
   "source": [
    "## Deploy and Create a Predictor\n",
    "\n",
    "Now that we have trained a model, we can use it to perform predictions by deploying it to a predictor endpoint.\n",
    "\n",
    "Remember to **delete the endpoint** at the end of this notebook. A cell at the very bottom of this notebook will be provided, but it is always good to keep, front-of-mind."
   ]
  },
  {
   "cell_type": "code",
   "execution_count": null,
   "metadata": {},
   "outputs": [
    {
     "name": "stdout",
     "output_type": "stream",
     "text": [
      "-----------------------------------------------------------------------------------------"
     ]
    }
   ],
   "source": [
    "# %%time\n",
    "\n",
    "# # create a predictor\n",
    "# predictor = estimator.deploy(\n",
    "#     initial_instance_count=1,\n",
    "#     instance_type='ml.t2.medium',\n",
    "#     content_type=\"application/json\" # specify that it will accept/produce JSON\n",
    "# )"
   ]
  },
  {
   "cell_type": "code",
   "execution_count": 29,
   "metadata": {},
   "outputs": [
    {
     "data": {
      "text/plain": [
       "'forecasting-deepar-2020-01-28-11-50-19-637'"
      ]
     },
     "execution_count": 29,
     "metadata": {},
     "output_type": "execute_result"
    }
   ],
   "source": [
    "estimator._current_job_name"
   ]
  },
  {
   "cell_type": "markdown",
   "metadata": {},
   "source": [
    "## Create endpoint from job name"
   ]
  },
  {
   "cell_type": "code",
   "execution_count": 30,
   "metadata": {},
   "outputs": [
    {
     "name": "stdout",
     "output_type": "stream",
     "text": [
      "---------------------------------------------------------------------------!"
     ]
    }
   ],
   "source": [
    "job_name = \"forecasting-deepar-200127-0636-011-a47b0ff3\"\n",
    "\n",
    "# job_name = estimator._current_job_name\n",
    "\n",
    "endpoint_name = sagemaker_session.endpoint_from_job(\n",
    "    job_name=job_name,\n",
    "    initial_instance_count=1,\n",
    "    instance_type='ml.m4.xlarge',\n",
    "    deployment_image=image_name,\n",
    "    role=role\n",
    ")"
   ]
  },
  {
   "cell_type": "code",
   "execution_count": 23,
   "metadata": {},
   "outputs": [],
   "source": [
    "# endpoint_name = \"forecasting-deepar-2019-11-21-07-41-20-349\""
   ]
  },
  {
   "cell_type": "code",
   "execution_count": 31,
   "metadata": {},
   "outputs": [],
   "source": [
    "import json \n",
    "\n",
    "class DeepARPredictor(sagemaker.predictor.RealTimePredictor):\n",
    "\n",
    "    def set_prediction_parameters(self, freq, prediction_length, target_col):\n",
    "        \"\"\"Set the time frequency and prediction length parameters. This method **must** be called\n",
    "        before being able to use `predict`.\n",
    "        \n",
    "        Parameters:\n",
    "        freq -- string indicating the time frequency\n",
    "        prediction_length -- integer, number of predicted time points\n",
    "        \n",
    "        Return value: none.\n",
    "        \"\"\"\n",
    "        self.freq = freq\n",
    "        self.prediction_length = prediction_length\n",
    "        self.target_col = target_col\n",
    "        \n",
    "    def predict(self, ts, cat=None, encoding=\"utf-8\", num_samples=100, quantiles=[\"0.1\", \"0.5\", \"0.9\"]):\n",
    "        \"\"\"Requests the prediction of for the time series listed in `ts`, each with the (optional)\n",
    "        corresponding category listed in `cat`.\n",
    "        \n",
    "        Parameters:\n",
    "        ts -- list of `pandas.Series` objects, the time series to predict\n",
    "        cat -- list of integers (default: None)\n",
    "        encoding -- string, encoding to use for the request (default: \"utf-8\")\n",
    "        num_samples -- integer, number of samples to compute at prediction time (default: 100)\n",
    "        quantiles -- list of strings specifying the quantiles to compute (default: [\"0.1\", \"0.5\", \"0.9\"])\n",
    "        \n",
    "        Return value: list of `pandas.DataFrame` objects, each containing the predictions\n",
    "        \"\"\"\n",
    "        prediction_times = [x.index[-self.prediction_length]+1 for x in ts]\n",
    "        req = self.__encode_request(ts, cat, encoding, num_samples, quantiles)\n",
    "        res = super(DeepARPredictor, self).predict(req)\n",
    "        return self.__decode_response(res, prediction_times, encoding)\n",
    "    \n",
    "    def __encode_request(self, ts, cat, encoding, num_samples, quantiles):\n",
    "#         instances = self.series_to_jsons(ts, self.target_col)\n",
    "        json_objs = []\n",
    "        for ts_i in ts:\n",
    "            json_objs.append(series_to_json(ts_i, self.target_col, self.prediction_length))\n",
    "        configuration = {\"num_samples\": num_samples, \"output_types\": [\"quantiles\"], \"quantiles\": quantiles}\n",
    "        http_request_data = {\"instances\": json_objs, \"configuration\": configuration}\n",
    "        return json.dumps(http_request_data).encode(encoding)\n",
    "    \n",
    "    def __decode_response(self, response, prediction_times, encoding):\n",
    "        response_data = json.loads(response.decode(encoding))\n",
    "        list_of_df = []\n",
    "        for k in range(len(prediction_times)):\n",
    "            prediction_index = pd.DatetimeIndex(start=prediction_times[k], freq=self.freq, periods=self.prediction_length)\n",
    "            list_of_df.append(pd.DataFrame(data=response_data['predictions'][k]['quantiles'], index=prediction_index))\n",
    "        return list_of_df\n",
    "    "
   ]
  },
  {
   "cell_type": "code",
   "execution_count": 32,
   "metadata": {},
   "outputs": [],
   "source": [
    "predictor = DeepARPredictor(\n",
    "    endpoint=endpoint_name,\n",
    "    sagemaker_session=sagemaker_session,\n",
    "    content_type=\"application/json\"\n",
    ")\n",
    "\n",
    "\n",
    "predictor.set_prediction_parameters(freq, prediction_length, target_col)"
   ]
  },
  {
   "cell_type": "code",
   "execution_count": 51,
   "metadata": {},
   "outputs": [
    {
     "data": {
      "text/plain": [
       "<matplotlib.axes._subplots.AxesSubplot at 0x7f1adb87a668>"
      ]
     },
     "execution_count": 51,
     "metadata": {},
     "output_type": "execute_result"
    },
    {
     "data": {
      "image/png": "[encoded data removed]",
      "text/plain": [
       "<Figure size 432x288 with 1 Axes>"
      ]
     },
     "metadata": {},
     "output_type": "display_data"
    }
   ],
   "source": [
    "# CabFlowMean\n",
    "# CabRainTotal\n",
    "ts_s[1].plot()\n"
   ]
  },
  {
   "cell_type": "code",
   "execution_count": 35,
   "metadata": {},
   "outputs": [
    {
     "data": {
      "text/plain": [
       "<matplotlib.axes._subplots.AxesSubplot at 0x7f1adbcae7f0>"
      ]
     },
     "execution_count": 35,
     "metadata": {},
     "output_type": "execute_result"
    },
    {
     "data": {
      "image/png": "[encoded data removed]",
      "text/plain": [
       "<Figure size 432x288 with 1 Axes>"
      ]
     },
     "metadata": {},
     "output_type": "display_data"
    }
   ],
   "source": [
    "main_ts_data['CabRainTotal'][4400:12000].plot()"
   ]
  },
  {
   "cell_type": "code",
   "execution_count": 158,
   "metadata": {},
   "outputs": [
    {
     "data": {
      "text/plain": [
       "<matplotlib.axes._subplots.AxesSubplot at 0x7f0f1b9c8518>"
      ]
     },
     "execution_count": 158,
     "metadata": {},
     "output_type": "execute_result"
    },
    {
     "data": {
      "image/png": "[encoded data removed]",
      "text/plain": [
       "<Figure size 432x288 with 1 Axes>"
      ]
     },
     "metadata": {},
     "output_type": "display_data"
    }
   ],
   "source": [
    "prediction_series[0].plot()"
   ]
  },
  {
   "cell_type": "code",
   "execution_count": 168,
   "metadata": {},
   "outputs": [
    {
     "name": "stderr",
     "output_type": "stream",
     "text": [
      "/home/ec2-user/anaconda3/envs/amazonei_mxnet_p36/lib/python3.6/site-packages/ipykernel/__main__.py:32: FutureWarning: Addition/subtraction of integers and integer-arrays to Timestamp is deprecated, will be removed in a future version.  Instead of adding/subtracting `n`, use `n * self.freq`\n",
      "/home/ec2-user/anaconda3/envs/amazonei_mxnet_p36/lib/python3.6/site-packages/ipykernel/__main__.py:50: FutureWarning: Creating a DatetimeIndex by passing range endpoints is deprecated.  Use `pandas.date_range` instead.\n"
     ]
    }
   ],
   "source": [
    "original_series = train_all_ts_data[4400:4505]\n",
    "prediction_series = predictor.predict([original_series])\n",
    "\n"
   ]
  },
  {
   "cell_type": "code",
   "execution_count": 169,
   "metadata": {},
   "outputs": [],
   "source": [
    "# display the prediction median against the actual data\n",
    "def display_quantiles(prediction_list, target_ts=None):\n",
    "    # show predictions for all input ts\n",
    "    for k in range(len(prediction_list)):\n",
    "        plt.figure(figsize=(12,6))\n",
    "        # get the target month of data\n",
    "        if target_ts is not None:\n",
    "#             target = target_ts[k][-prediction_length:]\n",
    "            target_ts[k].plot(label='target')\n",
    "        # get the quantile values at 10 and 90%\n",
    "        p10 = prediction_list[k]['0.1']\n",
    "        p90 = prediction_list[k]['0.9']\n",
    "        # fill the 80% confidence interval\n",
    "        plt.fill_between(p10.index, p10, p90, color='y', alpha=0.5, label='80% confidence interval')\n",
    "        # plot the median prediction line\n",
    "        prediction_list[k]['0.5'].plot(label='prediction median')\n",
    "        plt.legend()\n",
    "        plt.show()"
   ]
  },
  {
   "cell_type": "code",
   "execution_count": 170,
   "metadata": {},
   "outputs": [
    {
     "data": {
      "image/png": "[encoded data removed]",
      "text/plain": [
       "<Figure size 864x432 with 1 Axes>"
      ]
     },
     "metadata": {},
     "output_type": "display_data"
    }
   ],
   "source": [
    "display_quantiles(prediction_series, target_ts=[original_series['CabFlowMean']])"
   ]
  },
  {
   "cell_type": "code",
   "execution_count": null,
   "metadata": {},
   "outputs": [],
   "source": []
  }
 ],
 "metadata": {
  "kernelspec": {
   "display_name": "conda_amazonei_mxnet_p36",
   "language": "python",
   "name": "conda_amazonei_mxnet_p36"
  },
  "language_info": {
   "codemirror_mode": {
    "name": "ipython",
    "version": 3
   },
   "file_extension": ".py",
   "mimetype": "text/x-python",
   "name": "python",
   "nbconvert_exporter": "python",
   "pygments_lexer": "ipython3",
   "version": "3.6.5"
  }
 },
 "nbformat": 4,
 "nbformat_minor": 4
}
