{
 "cells": [
  {
   "cell_type": "markdown",
   "metadata": {},
   "source": [
    "# Flood Prediction Model 1 - Hourly Discharge at Caboolture River\n",
    "\n",
    "The Objective of this notebook is to create a flood prediction model for the Caboolture River at Upper Caboolture. We will use hourly rainfall data and an hourly discharge as the target time series and a single hourly rainfall time series as input variable. This model will be used for comparision with [RORB](https://www.monash.edu/engineering/departments/civil/research/themes/water/rorb)’s predictions.\n",
    "\n",
    "## Benchmark Model\n",
    "\n",
    "[RORB](https://www.monash.edu/engineering/departments/civil/research/themes/water/rorb) model is generally employed for calculating design flood discharges. It uses many assumptions and is manually calibrated to one flooding event. This will be used as benchmark model for comparison purpose.\n",
    "\n",
    "## Data Set\n",
    "The hydrological data available at [Queensland Water Monitoring Information Portal](https://water-monitoring.information.qld.gov.au/) will be used. Hourly as well as daily water flow data is available at various stations. Rainfall data is available in some of the stations. For the Caboolture River, only single discharge and rainfal station is available. \n",
    "\n",
    "\n",
    "\n",
    "### Work Workflow\n",
    "\n",
    "* Preprocessing and exploring the data\n",
    "* Creating training and test sets of time series\n",
    "* Formatting data as JSON files and uploading to S3\n",
    "* Instantiating and training a DeepAR estimator\n",
    "* Deploying a model and creating a predictor\n",
    "* Comparing the Predictor with RORB's performance"
   ]
  },
  {
   "cell_type": "markdown",
   "metadata": {},
   "source": [
    "# Preprocessing and exploring the data\n",
    "\n",
    "The raw data for Caboolture River is available at raw_data/Caboolture folder. "
   ]
  },
  {
   "cell_type": "code",
   "execution_count": 5,
   "metadata": {},
   "outputs": [],
   "source": [
    "import os\n",
    "import numpy as np\n",
    "import pandas as pd\n",
    "import matplotlib.pyplot as plt\n",
    "%matplotlib inline\n"
   ]
  },
  {
   "cell_type": "code",
   "execution_count": 167,
   "metadata": {},
   "outputs": [],
   "source": [
    "def unzip_ts_data(data_dir):\n",
    "    '''\n",
    "    Unzip all the zip files in the given data directory\n",
    "    Then, it will return a list of path to all the extracted csv files.\n",
    "\n",
    "    data_dir: path to directory containing ts zip files\n",
    "    \n",
    "    '''\n",
    "\n",
    "    # Zip data files in Caboolture folder\n",
    "    zip_files = os.listdir(data_dir)\n",
    "\n",
    "    # List to store path to the csv files\n",
    "    csv_paths = [] \n",
    "\n",
    "    for zip_file in zip_files:\n",
    "        if '.zip' in zip_file:\n",
    "            # Directory name to extract contents of zip file\n",
    "            zip_dir = data_dir + '/' + zip_file.split('.')[0]\n",
    "\n",
    "            # Delete directory if it exists\n",
    "            if os.path.exists(zip_dir):\n",
    "                !rm -r {zip_dir}\n",
    "\n",
    "            # Create dir and unzip\n",
    "            ! mkdir {zip_dir}\n",
    "            ! unzip {data_dir}/{zip_file} -d {zip_dir}\n",
    "            print('unzipped {}!'.format(zip_file))\n",
    "\n",
    "            # Save path to csv\n",
    "            for file_name in os.listdir(zip_dir):\n",
    "                if '.csv' in file_name:\n",
    "                    csv_paths.append('{}/{}'.format(zip_dir,file_name))\n",
    "                    \n",
    "    return csv_paths"
   ]
  },
  {
   "cell_type": "code",
   "execution_count": 193,
   "metadata": {},
   "outputs": [],
   "source": [
    "def read_ts_data(file_path, skiprows = 3, skipfooter = 2, time_col = \"Date and time\", value_cols = [\"Mean\"], prefix = \"\"):\n",
    "    '''\n",
    "    Read the time series csv data and return a pandas data frame with two variables Time and Value\n",
    "    file_path: csv file path\n",
    "    \n",
    "    skiprows: number of top rows to skip\n",
    "    skipfooter: number of bottom rows to skip\n",
    "    time_col: name of the timestamp column\n",
    "    value_cols: name of the target value column\n",
    "    '''\n",
    "    \n",
    "    # Read csv and remove bottom two rows\n",
    "    ts_data_raw = pd.read_csv(file_path, skiprows = skiprows, skipfooter = skipfooter, \n",
    "                              parse_dates={'DateTime' : [time_col]}, infer_datetime_format=True,\n",
    "                              index_col='DateTime', engine = 'python')\n",
    "    \n",
    "    # Select appropriate columns and rename them\n",
    "    ts_data = ts_data_raw[value_cols]\n",
    "    ts_data.rename( dict( zip( value_cols, [prefix+x for x in value_cols]) ), axis = 1, inplace=True )\n",
    "    \n",
    "    return ts_data\n",
    "    \n",
    "    \n"
   ]
  },
  {
   "cell_type": "code",
   "execution_count": 244,
   "metadata": {},
   "outputs": [
    {
     "name": "stdout",
     "output_type": "stream",
     "text": [
      "Archive:  ./raw_data/Caboolture/142001A_20191103_rain.zip\n",
      "  inflating: ./raw_data/Caboolture/142001A_20191103_rain/142001A.csv  \n",
      "  inflating: ./raw_data/Caboolture/142001A_20191103_rain/Copyright.pdf  \n",
      "  inflating: ./raw_data/Caboolture/142001A_20191103_rain/Disclaimer.pdf  \n",
      "  inflating: ./raw_data/Caboolture/142001A_20191103_rain/webglossary.pdf  \n",
      "unzipped 142001A_20191103_rain.zip!\n",
      "Archive:  ./raw_data/Caboolture/142001A_20191103_flow.zip\n",
      "  inflating: ./raw_data/Caboolture/142001A_20191103_flow/142001A.csv  \n",
      "  inflating: ./raw_data/Caboolture/142001A_20191103_flow/Copyright.pdf  \n",
      "  inflating: ./raw_data/Caboolture/142001A_20191103_flow/Disclaimer.pdf  \n",
      "  inflating: ./raw_data/Caboolture/142001A_20191103_flow/webglossary.pdf  \n",
      "unzipped 142001A_20191103_flow.zip!\n",
      "Archive:  ./raw_data/Maroochy/141004B_20191110_rain.zip\n",
      "  inflating: ./raw_data/Maroochy/141004B_20191110_rain/141004B.csv  \n",
      "  inflating: ./raw_data/Maroochy/141004B_20191110_rain/Copyright.pdf  \n",
      "  inflating: ./raw_data/Maroochy/141004B_20191110_rain/Disclaimer.pdf  \n",
      "  inflating: ./raw_data/Maroochy/141004B_20191110_rain/webglossary.pdf  \n",
      "unzipped 141004B_20191110_rain.zip!\n",
      "Archive:  ./raw_data/Brisbane/143306B_20191112.zip\n",
      "  inflating: ./raw_data/Brisbane/143306B_20191112/143306B.csv  \n",
      "  inflating: ./raw_data/Brisbane/143306B_20191112/Copyright.pdf  \n",
      "  inflating: ./raw_data/Brisbane/143306B_20191112/Disclaimer.pdf  \n",
      "  inflating: ./raw_data/Brisbane/143306B_20191112/webglossary.pdf  \n",
      "unzipped 143306B_20191112.zip!\n"
     ]
    }
   ],
   "source": [
    "# Read target (flow) and feature (rain) data\n",
    "\n",
    "target_name = '142001A_20191103_flow' # folder name containing target time series\n",
    "\n",
    "# Unzip the data and get list of csv paths\n",
    "cabooltre_csv_paths = unzip_ts_data('./raw_data/Caboolture')\n",
    "maroochy_csv_paths = unzip_ts_data('./raw_data/Maroochy')\n",
    "brisbane_csv_paths = unzip_ts_data('./raw_data/Brisbane')\n",
    "\n",
    "# Select the target csv\n",
    "target_csv_paths = []\n",
    "other_csv_paths = []\n",
    "for csv_path in cabooltre_csv_paths:\n",
    "    if target_name in csv_path:\n",
    "        target_csv_paths.append(csv_path)\n",
    "    else:\n",
    "        other_csv_paths.append(csv_path)\n",
    "        \n"
   ]
  },
  {
   "cell_type": "code",
   "execution_count": 245,
   "metadata": {},
   "outputs": [
    {
     "name": "stderr",
     "output_type": "stream",
     "text": [
      "/home/ec2-user/anaconda3/envs/amazonei_mxnet_p36/lib/python3.6/site-packages/pandas/core/frame.py:4025: SettingWithCopyWarning: \n",
      "A value is trying to be set on a copy of a slice from a DataFrame\n",
      "\n",
      "See the caveats in the documentation: http://pandas.pydata.org/pandas-docs/stable/indexing.html#indexing-view-versus-copy\n",
      "  return super(DataFrame, self).rename(**kwargs)\n"
     ]
    }
   ],
   "source": [
    "# Read the extracted csv data\n",
    "\n",
    "target_ts_data = read_ts_data(target_csv_paths[0], value_cols = [\"Mean\"], prefix = \"CabFlow\")\n",
    "\n",
    "rain_ts_data = read_ts_data(other_csv_paths[0], value_cols = [\"Total\"], prefix = \"CabRain\")\n",
    "\n",
    "rain_maroochy_ts_data = read_ts_data(maroochy_csv_paths[0], value_cols = [\"Total\"], prefix = \"MarRain\")\n",
    "rain_brisbane_ts_data = read_ts_data(brisbane_csv_paths[0], value_cols = [\"Total\"], prefix = \"BrisRain\")\n"
   ]
  },
  {
   "cell_type": "code",
   "execution_count": 247,
   "metadata": {},
   "outputs": [],
   "source": [
    "main_ts_data = target_ts_data.join(rain_ts_data)\n"
   ]
  },
  {
   "cell_type": "markdown",
   "metadata": {},
   "source": [
    "## Missing Values\n",
    "\n",
    "First we remove the missing values from the both ends of time. After doing so, we find that there are no missing values for the flow data while there are some missing data for the rainfall data. We replace the missing rainfall data with the rainfall from the nearest station in Maroochy basin."
   ]
  },
  {
   "cell_type": "code",
   "execution_count": 248,
   "metadata": {},
   "outputs": [
    {
     "data": {
      "text/html": [
       "<div>\n",
       "<style scoped>\n",
       "    .dataframe tbody tr th:only-of-type {\n",
       "        vertical-align: middle;\n",
       "    }\n",
       "\n",
       "    .dataframe tbody tr th {\n",
       "        vertical-align: top;\n",
       "    }\n",
       "\n",
       "    .dataframe thead th {\n",
       "        text-align: right;\n",
       "    }\n",
       "</style>\n",
       "<table border=\"1\" class=\"dataframe\">\n",
       "  <thead>\n",
       "    <tr style=\"text-align: right;\">\n",
       "      <th></th>\n",
       "      <th>CabFlowMean</th>\n",
       "      <th>CabRainTotal</th>\n",
       "    </tr>\n",
       "  </thead>\n",
       "  <tbody>\n",
       "    <tr>\n",
       "      <th>count</th>\n",
       "      <td>248640.000000</td>\n",
       "      <td>244332.000000</td>\n",
       "    </tr>\n",
       "    <tr>\n",
       "      <th>mean</th>\n",
       "      <td>0.939243</td>\n",
       "      <td>0.128908</td>\n",
       "    </tr>\n",
       "    <tr>\n",
       "      <th>std</th>\n",
       "      <td>8.070325</td>\n",
       "      <td>1.135370</td>\n",
       "    </tr>\n",
       "    <tr>\n",
       "      <th>min</th>\n",
       "      <td>0.000000</td>\n",
       "      <td>0.000000</td>\n",
       "    </tr>\n",
       "    <tr>\n",
       "      <th>25%</th>\n",
       "      <td>0.017500</td>\n",
       "      <td>0.000000</td>\n",
       "    </tr>\n",
       "    <tr>\n",
       "      <th>50%</th>\n",
       "      <td>0.074000</td>\n",
       "      <td>0.000000</td>\n",
       "    </tr>\n",
       "    <tr>\n",
       "      <th>75%</th>\n",
       "      <td>0.252000</td>\n",
       "      <td>0.000000</td>\n",
       "    </tr>\n",
       "    <tr>\n",
       "      <th>max</th>\n",
       "      <td>567.881600</td>\n",
       "      <td>87.000000</td>\n",
       "    </tr>\n",
       "  </tbody>\n",
       "</table>\n",
       "</div>"
      ],
      "text/plain": [
       "         CabFlowMean   CabRainTotal\n",
       "count  248640.000000  244332.000000\n",
       "mean        0.939243       0.128908\n",
       "std         8.070325       1.135370\n",
       "min         0.000000       0.000000\n",
       "25%         0.017500       0.000000\n",
       "50%         0.074000       0.000000\n",
       "75%         0.252000       0.000000\n",
       "max       567.881600      87.000000"
      ]
     },
     "execution_count": 248,
     "metadata": {},
     "output_type": "execute_result"
    }
   ],
   "source": [
    "def first_last_non_null(all_ts_data):\n",
    "    \"\"\"\n",
    "    Returns the index for first and last non-null rows on data\n",
    "    \"\"\"\n",
    "    selec_non_null = np.apply_along_axis(np.sum, 1, ~pd.isnull(all_ts_data).values) >= 2\n",
    "    # Find the first and last non-null index for all data\n",
    "    first_index = all_ts_data.index[selec_non_null][0]\n",
    "    last_index = all_ts_data.index[selec_non_null][-1]\n",
    "\n",
    "    return first_index, last_index\n",
    "\n",
    "# Select for this period\n",
    "\n",
    "first_index, last_index = first_last_non_null(main_ts_data)\n",
    "\n",
    "selec_all_ts_data = main_ts_data.iloc[(main_ts_data.index >= first_index) & (main_ts_data.index <= last_index),]\n",
    "\n",
    "selec_all_ts_data.describe()"
   ]
  },
  {
   "cell_type": "code",
   "execution_count": 266,
   "metadata": {},
   "outputs": [],
   "source": [
    "# Replace the missing rainfall with Maroochy rain\n",
    "\n",
    "selec2_all_ts_data = selec_all_ts_data.join(rain_maroochy_ts_data)\n",
    "\n",
    "selec2_all_ts_data.iloc[pd.isnull(selec2_all_ts_data.iloc[:,1]).values,1] = selec2_all_ts_data.iloc[pd.isnull(selec2_all_ts_data.iloc[:,1]).values,2]\n",
    "\n",
    "selec2_all_ts_data.drop(\"MarRainTotal\", 1, inplace = True)"
   ]
  },
  {
   "cell_type": "code",
   "execution_count": 267,
   "metadata": {},
   "outputs": [
    {
     "data": {
      "text/html": [
       "<div>\n",
       "<style scoped>\n",
       "    .dataframe tbody tr th:only-of-type {\n",
       "        vertical-align: middle;\n",
       "    }\n",
       "\n",
       "    .dataframe tbody tr th {\n",
       "        vertical-align: top;\n",
       "    }\n",
       "\n",
       "    .dataframe thead th {\n",
       "        text-align: right;\n",
       "    }\n",
       "</style>\n",
       "<table border=\"1\" class=\"dataframe\">\n",
       "  <thead>\n",
       "    <tr style=\"text-align: right;\">\n",
       "      <th></th>\n",
       "      <th>CabFlowMean</th>\n",
       "      <th>CabRainTotal</th>\n",
       "    </tr>\n",
       "  </thead>\n",
       "  <tbody>\n",
       "    <tr>\n",
       "      <th>count</th>\n",
       "      <td>248640.000000</td>\n",
       "      <td>248640.000000</td>\n",
       "    </tr>\n",
       "    <tr>\n",
       "      <th>mean</th>\n",
       "      <td>0.939243</td>\n",
       "      <td>0.129345</td>\n",
       "    </tr>\n",
       "    <tr>\n",
       "      <th>std</th>\n",
       "      <td>8.070325</td>\n",
       "      <td>1.138789</td>\n",
       "    </tr>\n",
       "    <tr>\n",
       "      <th>min</th>\n",
       "      <td>0.000000</td>\n",
       "      <td>0.000000</td>\n",
       "    </tr>\n",
       "    <tr>\n",
       "      <th>25%</th>\n",
       "      <td>0.017500</td>\n",
       "      <td>0.000000</td>\n",
       "    </tr>\n",
       "    <tr>\n",
       "      <th>50%</th>\n",
       "      <td>0.074000</td>\n",
       "      <td>0.000000</td>\n",
       "    </tr>\n",
       "    <tr>\n",
       "      <th>75%</th>\n",
       "      <td>0.252000</td>\n",
       "      <td>0.000000</td>\n",
       "    </tr>\n",
       "    <tr>\n",
       "      <th>max</th>\n",
       "      <td>567.881600</td>\n",
       "      <td>87.000000</td>\n",
       "    </tr>\n",
       "  </tbody>\n",
       "</table>\n",
       "</div>"
      ],
      "text/plain": [
       "         CabFlowMean   CabRainTotal\n",
       "count  248640.000000  248640.000000\n",
       "mean        0.939243       0.129345\n",
       "std         8.070325       1.138789\n",
       "min         0.000000       0.000000\n",
       "25%         0.017500       0.000000\n",
       "50%         0.074000       0.000000\n",
       "75%         0.252000       0.000000\n",
       "max       567.881600      87.000000"
      ]
     },
     "execution_count": 267,
     "metadata": {},
     "output_type": "execute_result"
    }
   ],
   "source": [
    "selec2_all_ts_data.describe()"
   ]
  },
  {
   "cell_type": "code",
   "execution_count": 269,
   "metadata": {},
   "outputs": [
    {
     "data": {
      "text/plain": [
       "<Figure size 1440x432 with 0 Axes>"
      ]
     },
     "metadata": {},
     "output_type": "display_data"
    },
    {
     "data": {
      "image/png": "[encoded data removed]",
      "text/plain": [
       "<Figure size 432x288 with 1 Axes>"
      ]
     },
     "metadata": {},
     "output_type": "display_data"
    }
   ],
   "source": [
    "# Plot filter\n",
    "\n",
    "# display the data \n",
    "plt.figure(figsize=(20,6))\n",
    "# all data points\n",
    "selec2_all_ts_data.plot(title='Global active power', color=['blue','red']) \n",
    "plt.show()"
   ]
  },
  {
   "cell_type": "markdown",
   "metadata": {},
   "source": [
    "# Spliting to Training and Test Series\n",
    "Now we split the data into training and test series. Data up to 2016 will be used for training and then the rest for testing."
   ]
  },
  {
   "cell_type": "code",
   "execution_count": 277,
   "metadata": {},
   "outputs": [],
   "source": [
    "train_all_ts_data = selec2_all_ts_data.iloc[selec2_all_ts_data.index < pd.Timestamp('2016-01-01 00:00:00'),:]\n",
    "test_all_ts_data = selec2_all_ts_data.iloc[selec2_all_ts_data.index >= pd.Timestamp('2016-01-01 00:00:00'),:]"
   ]
  },
  {
   "cell_type": "markdown",
   "metadata": {},
   "source": [
    "# Convert to JSON\n"
   ]
  },
  {
   "cell_type": "code",
   "execution_count": 279,
   "metadata": {},
   "outputs": [
    {
     "data": {
      "text/html": [
       "<div>\n",
       "<style scoped>\n",
       "    .dataframe tbody tr th:only-of-type {\n",
       "        vertical-align: middle;\n",
       "    }\n",
       "\n",
       "    .dataframe tbody tr th {\n",
       "        vertical-align: top;\n",
       "    }\n",
       "\n",
       "    .dataframe thead th {\n",
       "        text-align: right;\n",
       "    }\n",
       "</style>\n",
       "<table border=\"1\" class=\"dataframe\">\n",
       "  <thead>\n",
       "    <tr style=\"text-align: right;\">\n",
       "      <th></th>\n",
       "      <th>CabFlowMean</th>\n",
       "      <th>CabRainTotal</th>\n",
       "    </tr>\n",
       "    <tr>\n",
       "      <th>DateTime</th>\n",
       "      <th></th>\n",
       "      <th></th>\n",
       "    </tr>\n",
       "  </thead>\n",
       "  <tbody>\n",
       "    <tr>\n",
       "      <th>2016-01-01 00:00:00</th>\n",
       "      <td>0.0285</td>\n",
       "      <td>0.0</td>\n",
       "    </tr>\n",
       "    <tr>\n",
       "      <th>2016-01-01 01:00:00</th>\n",
       "      <td>0.0280</td>\n",
       "      <td>0.0</td>\n",
       "    </tr>\n",
       "    <tr>\n",
       "      <th>2016-01-01 02:00:00</th>\n",
       "      <td>0.0262</td>\n",
       "      <td>0.0</td>\n",
       "    </tr>\n",
       "    <tr>\n",
       "      <th>2016-01-01 03:00:00</th>\n",
       "      <td>0.0255</td>\n",
       "      <td>0.0</td>\n",
       "    </tr>\n",
       "    <tr>\n",
       "      <th>2016-01-01 04:00:00</th>\n",
       "      <td>0.0260</td>\n",
       "      <td>0.0</td>\n",
       "    </tr>\n",
       "  </tbody>\n",
       "</table>\n",
       "</div>"
      ],
      "text/plain": [
       "                     CabFlowMean  CabRainTotal\n",
       "DateTime                                      \n",
       "2016-01-01 00:00:00       0.0285           0.0\n",
       "2016-01-01 01:00:00       0.0280           0.0\n",
       "2016-01-01 02:00:00       0.0262           0.0\n",
       "2016-01-01 03:00:00       0.0255           0.0\n",
       "2016-01-01 04:00:00       0.0260           0.0"
      ]
     },
     "execution_count": 279,
     "metadata": {},
     "output_type": "execute_result"
    }
   ],
   "source": [
    "test_all_ts_data.head()"
   ]
  },
  {
   "cell_type": "code",
   "execution_count": 311,
   "metadata": {},
   "outputs": [
    {
     "data": {
      "text/plain": [
       "array([[0.0285, 0.028 , 0.0262, ..., 0.009 , 0.009 , 0.009 ],\n",
       "       [0.0285, 0.028 , 0.0262, ..., 0.009 , 0.009 , 0.009 ]])"
      ]
     },
     "execution_count": 311,
     "metadata": {},
     "output_type": "execute_result"
    }
   ],
   "source": [
    "target_col = \"CabFlowMean\"\n",
    "test_all_ts_data[[target_col,target_col]].values.transpose()"
   ]
  },
  {
   "cell_type": "code",
   "execution_count": 301,
   "metadata": {},
   "outputs": [
    {
     "data": {
      "text/plain": [
       "array(['CabFlowMean', 'CabRainTotal'], dtype=object)"
      ]
     },
     "execution_count": 301,
     "metadata": {},
     "output_type": "execute_result"
    }
   ],
   "source": [
    "test_all_ts_data.columns.values"
   ]
  },
  {
   "cell_type": "code",
   "execution_count": 312,
   "metadata": {},
   "outputs": [],
   "source": [
    "def series_to_json(ts, target_col):\n",
    "    '''Returns a dictionary of values in DeepAR, JSON format.\n",
    "    \n",
    "       ts: A single time series.\n",
    "       target_col: col name for target series (other series will be used as dynamic feature)\n",
    "       \n",
    "       return: A dictionary of values with \"start\", \"target\" and dynamic keys.\n",
    "       '''\n",
    "    # your code here\n",
    "    remain_col = []\n",
    "    for col in ts.columns.values:\n",
    "        if col!= target_col:\n",
    "            remain_col.append(col)\n",
    "    \n",
    "    json_obj = {'start' : ts.index[0].strftime('%Y-%m-%d %H:%M:%S'), \n",
    "                'target' : ts[target_col].values.tolist(),\n",
    "                'dynamic_feat' : ts[remain_col].values.transpose().tolist()}\n",
    "    return json_obj\n"
   ]
  },
  {
   "cell_type": "code",
   "execution_count": 313,
   "metadata": {},
   "outputs": [],
   "source": [
    "target_col = \"CabFlowMean\"\n",
    "train_json = series_to_json(train_all_ts_data, target_col)"
   ]
  },
  {
   "cell_type": "markdown",
   "metadata": {},
   "source": [
    "# Save Data Locally"
   ]
  },
  {
   "cell_type": "code",
   "execution_count": 315,
   "metadata": {},
   "outputs": [],
   "source": [
    "# import json for formatting data\n",
    "import json\n",
    "import os # and os for saving\n",
    "\n",
    "def write_json_dataset(time_series, target_col, filename): \n",
    "    with open(filename, 'wb') as f:\n",
    "        # for each of our times series, there is one JSON line\n",
    "        for ts in time_series:\n",
    "            json_line = json.dumps(series_to_json(ts, target_col)) + '\\n'\n",
    "            json_line = json_line.encode('utf-8')\n",
    "            f.write(json_line)\n",
    "    print(filename + ' saved.')"
   ]
  },
  {
   "cell_type": "code",
   "execution_count": 316,
   "metadata": {},
   "outputs": [],
   "source": [
    "# save this data to a local directory\n",
    "data_dir = 'json_model1_data'\n",
    "\n",
    "# make data dir, if it does not exist\n",
    "if not os.path.exists(data_dir):\n",
    "    os.makedirs(data_dir)"
   ]
  },
  {
   "cell_type": "code",
   "execution_count": null,
   "metadata": {},
   "outputs": [],
   "source": [
    "# directories to save train/test data\n",
    "train_path = os.path.join(data_dir, 'train.json')\n",
    "test_path = os.path.join(data_dir, 'test.json')\n",
    "\n",
    "# write train/test JSON files\n",
    "write_json_dataset(train_all_ts_data, target_col, train_path)        \n",
    "write_json_dataset(train_all_ts_data, target_col, test_path)"
   ]
  }
 ],
 "metadata": {
  "kernelspec": {
   "display_name": "conda_amazonei_mxnet_p36",
   "language": "python",
   "name": "conda_amazonei_mxnet_p36"
  },
  "language_info": {
   "codemirror_mode": {
    "name": "ipython",
    "version": 3
   },
   "file_extension": ".py",
   "mimetype": "text/x-python",
   "name": "python",
   "nbconvert_exporter": "python",
   "pygments_lexer": "ipython3",
   "version": "3.6.5"
  }
 },
 "nbformat": 4,
 "nbformat_minor": 4
}
