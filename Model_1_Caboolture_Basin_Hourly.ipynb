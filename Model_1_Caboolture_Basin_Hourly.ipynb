{
 "cells": [
  {
   "cell_type": "markdown",
   "metadata": {},
   "source": [
    "# Flood Prediction Model 1 - Hourly Discharge at Caboolture River\n",
    "\n",
    "The Objective of this notebook is to create a flood prediction model for the Caboolture River at Upper Caboolture. We will use hourly rainfall data and an hourly discharge as the target time series and a single hourly rainfall time series as input variable. This model will be used for comparision with [RORB](https://www.monash.edu/engineering/departments/civil/research/themes/water/rorb)’s predictions.\n",
    "\n",
    "## Benchmark Model\n",
    "\n",
    "[RORB](https://www.monash.edu/engineering/departments/civil/research/themes/water/rorb) model is generally employed for calculating design flood discharges. It uses many assumptions and is manually calibrated to one flooding event. This will be used as benchmark model for comparison purpose.\n",
    "\n",
    "## Data Set\n",
    "The hydrological data available at [Queensland Water Monitoring Information Portal](https://water-monitoring.information.qld.gov.au/) will be used. Hourly as well as daily water flow data is available at various stations. Rainfall data is available in some of the stations. For the Caboolture River, only single discharge and rainfal station is available. \n",
    "\n",
    "\n",
    "\n",
    "### Work Workflow\n",
    "\n",
    "* Preprocessing and exploring the data\n",
    "* Creating training and test sets of time series\n",
    "* Formatting data as JSON files and uploading to S3\n",
    "* Instantiating and training a DeepAR estimator\n",
    "* Deploying a model and creating a predictor\n",
    "* Comparing the Predictor with RORB's performance"
   ]
  },
  {
   "cell_type": "markdown",
   "metadata": {},
   "source": [
    "# Preprocessing and exploring the data\n",
    "\n",
    "The raw data for Caboolture River is available at raw_data/Caboolture folder. "
   ]
  },
  {
   "cell_type": "code",
   "execution_count": 1,
   "metadata": {},
   "outputs": [],
   "source": [
    "import os\n",
    "import numpy as np\n",
    "import pandas as pd\n",
    "import matplotlib.pyplot as plt\n",
    "%matplotlib inline\n",
    "\n",
    "from utility import unzip_ts_data, read_ts_data, series_to_json\n"
   ]
  },
  {
   "cell_type": "code",
   "execution_count": 2,
   "metadata": {},
   "outputs": [
    {
     "name": "stdout",
     "output_type": "stream",
     "text": [
      "./raw_data/Caboolture/142001A_20191103_rain\n",
      "unzipped 142001A_20191103_rain.zip!\n",
      "./raw_data/Caboolture/142001A_20191103_flow\n",
      "unzipped 142001A_20191103_flow.zip!\n",
      "./raw_data/Maroochy/141004B_20191110_rain\n",
      "unzipped 141004B_20191110_rain.zip!\n"
     ]
    }
   ],
   "source": [
    "# Read target (flow) and feature (rain) data\n",
    "\n",
    "target_name = '142001A_20191103_flow' # folder name containing target time series\n",
    "\n",
    "# Unzip the data and get list of csv paths\n",
    "cabooltre_csv_paths = unzip_ts_data('./raw_data/Caboolture')\n",
    "maroochy_csv_paths = unzip_ts_data('./raw_data/Maroochy')\n",
    "# brisbane_csv_paths = unzip_ts_data('./raw_data/Brisbane')\n",
    "\n",
    "# Select the target csv\n",
    "target_csv_paths = []\n",
    "other_csv_paths = []\n",
    "for csv_path in cabooltre_csv_paths:\n",
    "    if target_name in csv_path:\n",
    "        target_csv_paths.append(csv_path)\n",
    "    else:\n",
    "        other_csv_paths.append(csv_path)\n",
    "        \n"
   ]
  },
  {
   "cell_type": "code",
   "execution_count": 3,
   "metadata": {},
   "outputs": [
    {
     "data": {
      "text/plain": [
       "['./raw_data/Caboolture/142001A_20191103_rain/142001A.csv',\n",
       " './raw_data/Caboolture/142001A_20191103_flow/142001A.csv']"
      ]
     },
     "execution_count": 3,
     "metadata": {},
     "output_type": "execute_result"
    }
   ],
   "source": [
    "cabooltre_csv_paths"
   ]
  },
  {
   "cell_type": "code",
   "execution_count": 4,
   "metadata": {},
   "outputs": [
    {
     "name": "stderr",
     "output_type": "stream",
     "text": [
      "/home/ec2-user/anaconda3/envs/amazonei_mxnet_p36/lib/python3.6/site-packages/pandas/core/frame.py:4025: SettingWithCopyWarning: \n",
      "A value is trying to be set on a copy of a slice from a DataFrame\n",
      "\n",
      "See the caveats in the documentation: http://pandas.pydata.org/pandas-docs/stable/indexing.html#indexing-view-versus-copy\n",
      "  return super(DataFrame, self).rename(**kwargs)\n"
     ]
    }
   ],
   "source": [
    "# Read the extracted csv data\n",
    "\n",
    "target_ts_data = read_ts_data(target_csv_paths[0], value_cols = [\"Mean\"], prefix = \"CabFlow\")\n",
    "\n",
    "rain_ts_data = read_ts_data(other_csv_paths[0], value_cols = [\"Total\"], prefix = \"CabRain\")\n",
    "\n",
    "rain_maroochy_ts_data = read_ts_data(maroochy_csv_paths[0], value_cols = [\"Total\"], prefix = \"MarRain\")\n",
    "# rain_brisbane_ts_data = read_ts_data(brisbane_csv_paths[0], value_cols = [\"Total\"], prefix = \"BrisRain\")\n"
   ]
  },
  {
   "cell_type": "code",
   "execution_count": 5,
   "metadata": {},
   "outputs": [],
   "source": [
    "main_ts_data = target_ts_data.join(rain_ts_data)\n"
   ]
  },
  {
   "cell_type": "markdown",
   "metadata": {},
   "source": [
    "## Missing Values\n",
    "\n",
    "First we remove the missing values from the both ends of time. After doing so, we find that there are no missing values for the flow data while there are some missing data for the rainfall data. We replace the missing rainfall data with the rainfall from the nearest station in Maroochy basin."
   ]
  },
  {
   "cell_type": "code",
   "execution_count": 6,
   "metadata": {},
   "outputs": [
    {
     "data": {
      "text/html": [
       "<div>\n",
       "<style scoped>\n",
       "    .dataframe tbody tr th:only-of-type {\n",
       "        vertical-align: middle;\n",
       "    }\n",
       "\n",
       "    .dataframe tbody tr th {\n",
       "        vertical-align: top;\n",
       "    }\n",
       "\n",
       "    .dataframe thead th {\n",
       "        text-align: right;\n",
       "    }\n",
       "</style>\n",
       "<table border=\"1\" class=\"dataframe\">\n",
       "  <thead>\n",
       "    <tr style=\"text-align: right;\">\n",
       "      <th></th>\n",
       "      <th>CabFlowMean</th>\n",
       "      <th>CabRainTotal</th>\n",
       "    </tr>\n",
       "  </thead>\n",
       "  <tbody>\n",
       "    <tr>\n",
       "      <th>count</th>\n",
       "      <td>248988.000000</td>\n",
       "      <td>244680.000000</td>\n",
       "    </tr>\n",
       "    <tr>\n",
       "      <th>mean</th>\n",
       "      <td>0.935791</td>\n",
       "      <td>0.128725</td>\n",
       "    </tr>\n",
       "    <tr>\n",
       "      <th>std</th>\n",
       "      <td>8.064841</td>\n",
       "      <td>1.134573</td>\n",
       "    </tr>\n",
       "    <tr>\n",
       "      <th>min</th>\n",
       "      <td>0.000000</td>\n",
       "      <td>0.000000</td>\n",
       "    </tr>\n",
       "    <tr>\n",
       "      <th>25%</th>\n",
       "      <td>0.017000</td>\n",
       "      <td>0.000000</td>\n",
       "    </tr>\n",
       "    <tr>\n",
       "      <th>50%</th>\n",
       "      <td>0.073500</td>\n",
       "      <td>0.000000</td>\n",
       "    </tr>\n",
       "    <tr>\n",
       "      <th>75%</th>\n",
       "      <td>0.249500</td>\n",
       "      <td>0.000000</td>\n",
       "    </tr>\n",
       "    <tr>\n",
       "      <th>max</th>\n",
       "      <td>567.881600</td>\n",
       "      <td>87.000000</td>\n",
       "    </tr>\n",
       "  </tbody>\n",
       "</table>\n",
       "</div>"
      ],
      "text/plain": [
       "         CabFlowMean   CabRainTotal\n",
       "count  248988.000000  244680.000000\n",
       "mean        0.935791       0.128725\n",
       "std         8.064841       1.134573\n",
       "min         0.000000       0.000000\n",
       "25%         0.017000       0.000000\n",
       "50%         0.073500       0.000000\n",
       "75%         0.249500       0.000000\n",
       "max       567.881600      87.000000"
      ]
     },
     "execution_count": 6,
     "metadata": {},
     "output_type": "execute_result"
    }
   ],
   "source": [
    "def first_last_non_null(all_ts_data):\n",
    "    \"\"\"\n",
    "    Returns the index for first and last non-null rows on data\n",
    "    \"\"\"\n",
    "    selec_non_null = np.apply_along_axis(np.sum, 1, ~pd.isnull(all_ts_data).values) >= 2\n",
    "    # Find the first and last non-null index for all data\n",
    "    first_index = all_ts_data.index[selec_non_null][0]\n",
    "    last_index = all_ts_data.index[selec_non_null][-1]\n",
    "\n",
    "    return first_index, last_index\n",
    "\n",
    "# Select for this period\n",
    "\n",
    "first_index, last_index = first_last_non_null(main_ts_data)\n",
    "\n",
    "selec_all_ts_data = main_ts_data.iloc[(main_ts_data.index >= first_index) & (main_ts_data.index <= last_index),]\n",
    "\n",
    "selec_all_ts_data.describe()"
   ]
  },
  {
   "cell_type": "code",
   "execution_count": 7,
   "metadata": {},
   "outputs": [],
   "source": [
    "# Replace the missing rainfall with Maroochy rain\n",
    "\n",
    "selec2_all_ts_data = selec_all_ts_data.join(rain_maroochy_ts_data)\n",
    "\n",
    "selec2_all_ts_data.iloc[pd.isnull(selec2_all_ts_data.iloc[:,1]).values,1] = selec2_all_ts_data.iloc[pd.isnull(selec2_all_ts_data.iloc[:,1]).values,2]\n",
    "\n",
    "selec2_all_ts_data.drop(\"MarRainTotal\", 1, inplace = True)"
   ]
  },
  {
   "cell_type": "code",
   "execution_count": 8,
   "metadata": {},
   "outputs": [
    {
     "data": {
      "text/html": [
       "<div>\n",
       "<style scoped>\n",
       "    .dataframe tbody tr th:only-of-type {\n",
       "        vertical-align: middle;\n",
       "    }\n",
       "\n",
       "    .dataframe tbody tr th {\n",
       "        vertical-align: top;\n",
       "    }\n",
       "\n",
       "    .dataframe thead th {\n",
       "        text-align: right;\n",
       "    }\n",
       "</style>\n",
       "<table border=\"1\" class=\"dataframe\">\n",
       "  <thead>\n",
       "    <tr style=\"text-align: right;\">\n",
       "      <th></th>\n",
       "      <th>CabFlowMean</th>\n",
       "      <th>CabRainTotal</th>\n",
       "    </tr>\n",
       "  </thead>\n",
       "  <tbody>\n",
       "    <tr>\n",
       "      <th>count</th>\n",
       "      <td>248988.000000</td>\n",
       "      <td>248988.000000</td>\n",
       "    </tr>\n",
       "    <tr>\n",
       "      <th>mean</th>\n",
       "      <td>0.935791</td>\n",
       "      <td>0.129164</td>\n",
       "    </tr>\n",
       "    <tr>\n",
       "      <th>std</th>\n",
       "      <td>8.064841</td>\n",
       "      <td>1.138003</td>\n",
       "    </tr>\n",
       "    <tr>\n",
       "      <th>min</th>\n",
       "      <td>0.000000</td>\n",
       "      <td>0.000000</td>\n",
       "    </tr>\n",
       "    <tr>\n",
       "      <th>25%</th>\n",
       "      <td>0.017000</td>\n",
       "      <td>0.000000</td>\n",
       "    </tr>\n",
       "    <tr>\n",
       "      <th>50%</th>\n",
       "      <td>0.073500</td>\n",
       "      <td>0.000000</td>\n",
       "    </tr>\n",
       "    <tr>\n",
       "      <th>75%</th>\n",
       "      <td>0.249500</td>\n",
       "      <td>0.000000</td>\n",
       "    </tr>\n",
       "    <tr>\n",
       "      <th>max</th>\n",
       "      <td>567.881600</td>\n",
       "      <td>87.000000</td>\n",
       "    </tr>\n",
       "  </tbody>\n",
       "</table>\n",
       "</div>"
      ],
      "text/plain": [
       "         CabFlowMean   CabRainTotal\n",
       "count  248988.000000  248988.000000\n",
       "mean        0.935791       0.129164\n",
       "std         8.064841       1.138003\n",
       "min         0.000000       0.000000\n",
       "25%         0.017000       0.000000\n",
       "50%         0.073500       0.000000\n",
       "75%         0.249500       0.000000\n",
       "max       567.881600      87.000000"
      ]
     },
     "execution_count": 8,
     "metadata": {},
     "output_type": "execute_result"
    }
   ],
   "source": [
    "selec2_all_ts_data.describe()"
   ]
  },
  {
   "cell_type": "code",
   "execution_count": 9,
   "metadata": {},
   "outputs": [
    {
     "data": {
      "text/plain": [
       "<Figure size 1440x432 with 0 Axes>"
      ]
     },
     "metadata": {},
     "output_type": "display_data"
    },
    {
     "data": {
      "image/png": "[encoded data removed]",
      "text/plain": [
       "<Figure size 432x288 with 1 Axes>"
      ]
     },
     "metadata": {},
     "output_type": "display_data"
    }
   ],
   "source": [
    "# Plot filter\n",
    "\n",
    "# display the data \n",
    "plt.figure(figsize=(20,6))\n",
    "# all data points\n",
    "selec2_all_ts_data.plot(title='Global active power', color=['blue','red']) \n",
    "plt.show()"
   ]
  },
  {
   "cell_type": "markdown",
   "metadata": {},
   "source": [
    "# Spliting to Training and Test Series\n",
    "Now we split the data into training and test series. Data up to 2016 will be used for training and then the rest for testing."
   ]
  },
  {
   "cell_type": "code",
   "execution_count": 10,
   "metadata": {},
   "outputs": [],
   "source": [
    "train_all_ts_data = selec2_all_ts_data.iloc[selec2_all_ts_data.index < pd.Timestamp('2016-01-01 00:00:00'),:]\n",
    "test_all_ts_data = selec2_all_ts_data.iloc[selec2_all_ts_data.index >= pd.Timestamp('2016-01-01 00:00:00'),:]"
   ]
  },
  {
   "cell_type": "markdown",
   "metadata": {},
   "source": [
    "# Convert to JSON\n"
   ]
  },
  {
   "cell_type": "code",
   "execution_count": 11,
   "metadata": {},
   "outputs": [
    {
     "data": {
      "text/html": [
       "<div>\n",
       "<style scoped>\n",
       "    .dataframe tbody tr th:only-of-type {\n",
       "        vertical-align: middle;\n",
       "    }\n",
       "\n",
       "    .dataframe tbody tr th {\n",
       "        vertical-align: top;\n",
       "    }\n",
       "\n",
       "    .dataframe thead th {\n",
       "        text-align: right;\n",
       "    }\n",
       "</style>\n",
       "<table border=\"1\" class=\"dataframe\">\n",
       "  <thead>\n",
       "    <tr style=\"text-align: right;\">\n",
       "      <th></th>\n",
       "      <th>CabFlowMean</th>\n",
       "      <th>CabRainTotal</th>\n",
       "    </tr>\n",
       "  </thead>\n",
       "  <tbody>\n",
       "    <tr>\n",
       "      <th>2016-01-01 00:00:00</th>\n",
       "      <td>0.275</td>\n",
       "      <td>0.0</td>\n",
       "    </tr>\n",
       "    <tr>\n",
       "      <th>2016-01-01 01:00:00</th>\n",
       "      <td>0.278</td>\n",
       "      <td>0.0</td>\n",
       "    </tr>\n",
       "    <tr>\n",
       "      <th>2016-01-01 02:00:00</th>\n",
       "      <td>0.281</td>\n",
       "      <td>0.0</td>\n",
       "    </tr>\n",
       "    <tr>\n",
       "      <th>2016-01-01 03:00:00</th>\n",
       "      <td>0.278</td>\n",
       "      <td>0.0</td>\n",
       "    </tr>\n",
       "    <tr>\n",
       "      <th>2016-01-01 04:00:00</th>\n",
       "      <td>0.275</td>\n",
       "      <td>0.0</td>\n",
       "    </tr>\n",
       "  </tbody>\n",
       "</table>\n",
       "</div>"
      ],
      "text/plain": [
       "                     CabFlowMean  CabRainTotal\n",
       "2016-01-01 00:00:00        0.275           0.0\n",
       "2016-01-01 01:00:00        0.278           0.0\n",
       "2016-01-01 02:00:00        0.281           0.0\n",
       "2016-01-01 03:00:00        0.278           0.0\n",
       "2016-01-01 04:00:00        0.275           0.0"
      ]
     },
     "execution_count": 11,
     "metadata": {},
     "output_type": "execute_result"
    }
   ],
   "source": [
    "test_all_ts_data.head()"
   ]
  },
  {
   "cell_type": "code",
   "execution_count": 12,
   "metadata": {},
   "outputs": [
    {
     "data": {
      "text/plain": [
       "array([[0.275, 0.278, 0.281, ..., 0.009, 0.009, 0.009],\n",
       "       [0.275, 0.278, 0.281, ..., 0.009, 0.009, 0.009]])"
      ]
     },
     "execution_count": 12,
     "metadata": {},
     "output_type": "execute_result"
    }
   ],
   "source": [
    "target_col = \"CabFlowMean\"\n",
    "test_all_ts_data[[target_col,target_col]].values.transpose()"
   ]
  },
  {
   "cell_type": "code",
   "execution_count": 13,
   "metadata": {},
   "outputs": [
    {
     "data": {
      "text/plain": [
       "array(['CabFlowMean', 'CabRainTotal'], dtype=object)"
      ]
     },
     "execution_count": 13,
     "metadata": {},
     "output_type": "execute_result"
    }
   ],
   "source": [
    "test_all_ts_data.columns.values"
   ]
  },
  {
   "cell_type": "code",
   "execution_count": 14,
   "metadata": {},
   "outputs": [],
   "source": [
    "target_col = \"CabFlowMean\"\n",
    "train_json = series_to_json(train_all_ts_data, target_col)"
   ]
  },
  {
   "cell_type": "markdown",
   "metadata": {},
   "source": [
    "# Save Data Locally"
   ]
  },
  {
   "cell_type": "code",
   "execution_count": 15,
   "metadata": {},
   "outputs": [],
   "source": [
    "# import json for formatting data\n",
    "import json\n",
    "import os # and os for saving\n",
    "\n",
    "def write_json_dataset(time_series, target_col, filename): \n",
    "    with open(filename, 'wb') as f:\n",
    "        json_line = json.dumps(series_to_json(time_series, target_col)) + '\\n'\n",
    "        json_line = json_line.encode('utf-8')\n",
    "        f.write(json_line)\n",
    "    print(filename + ' saved.')"
   ]
  },
  {
   "cell_type": "code",
   "execution_count": 20,
   "metadata": {},
   "outputs": [],
   "source": [
    "# save this data to a local directory\n",
    "data_dir = 'json_model1_data'\n",
    "\n",
    "# make data dir, if it does not exist\n",
    "if not os.path.exists(data_dir):\n",
    "    os.makedirs(data_dir)"
   ]
  },
  {
   "cell_type": "code",
   "execution_count": 21,
   "metadata": {},
   "outputs": [
    {
     "name": "stdout",
     "output_type": "stream",
     "text": [
      "json_model1_data/train.json saved.\n",
      "json_model1_data/test.json saved.\n"
     ]
    }
   ],
   "source": [
    "# directories to save train/test data\n",
    "train_path = os.path.join(data_dir, 'train.json')\n",
    "test_path = os.path.join(data_dir, 'test.json')\n",
    "\n",
    "# write train/test JSON files\n",
    "write_json_dataset(train_all_ts_data, target_col, train_path)        \n",
    "write_json_dataset(train_all_ts_data, target_col, test_path)"
   ]
  },
  {
   "cell_type": "markdown",
   "metadata": {},
   "source": [
    "# Uploading data to S3\n",
    "\n"
   ]
  },
  {
   "cell_type": "code",
   "execution_count": 22,
   "metadata": {},
   "outputs": [],
   "source": [
    "import boto3\n",
    "import sagemaker\n",
    "from sagemaker import get_execution_role"
   ]
  },
  {
   "cell_type": "code",
   "execution_count": 23,
   "metadata": {},
   "outputs": [],
   "source": [
    "# session, role, bucket\n",
    "sagemaker_session = sagemaker.Session()\n",
    "role = get_execution_role()\n",
    "\n",
    "bucket = sagemaker_session.default_bucket()\n",
    "\n",
    "prefix='flood-prediction-model-1'"
   ]
  },
  {
   "cell_type": "markdown",
   "metadata": {},
   "source": [
    "Upload training data to a location in S3, and save that location to train_path\n",
    "Upload test data to a location in S3, and save that location to test_path"
   ]
  },
  {
   "cell_type": "code",
   "execution_count": 24,
   "metadata": {},
   "outputs": [],
   "source": [
    "\n",
    "\n",
    "# *unique* train/test prefixes\n",
    "train_prefix   = '{}/{}'.format(prefix, 'train')\n",
    "test_prefix    = '{}/{}'.format(prefix, 'test')\n",
    "\n",
    "# uploading data to S3, and saving locations\n",
    "train_s3_path  = sagemaker_session.upload_data(train_path, bucket=bucket, key_prefix=train_prefix)\n",
    "test_s3_path   = sagemaker_session.upload_data(test_path,  bucket=bucket, key_prefix=test_prefix)"
   ]
  },
  {
   "cell_type": "code",
   "execution_count": 25,
   "metadata": {},
   "outputs": [
    {
     "name": "stdout",
     "output_type": "stream",
     "text": [
      "Training data is stored in: s3://sagemaker-ap-southeast-2-990878777707/flood-prediction-model-1/train/train.json\n",
      "Test data is stored in: s3://sagemaker-ap-southeast-2-990878777707/flood-prediction-model-1/test/test.json\n"
     ]
    }
   ],
   "source": [
    "# check locations\n",
    "print('Training data is stored in: '+ train_s3_path)\n",
    "print('Test data is stored in: '+ test_s3_path)"
   ]
  },
  {
   "cell_type": "markdown",
   "metadata": {},
   "source": [
    "---\n",
    "# Training a DeepAR Estimator\n",
    "\n",
    "Some estimators have specific, SageMaker constructors, but not all. Instead you can create a base `Estimator` and pass in the specific image (or container) that holds a specific model.\n",
    "\n",
    "Next, we configure the container image to be used for the region that we are running in."
   ]
  },
  {
   "cell_type": "code",
   "execution_count": 26,
   "metadata": {},
   "outputs": [],
   "source": [
    "from sagemaker.amazon.amazon_estimator import get_image_uri\n",
    "\n",
    "image_name = get_image_uri(boto3.Session().region_name, # get the region\n",
    "                           'forecasting-deepar') # specify image\n"
   ]
  },
  {
   "cell_type": "markdown",
   "metadata": {},
   "source": [
    "### Instantiate an Estimator \n",
    "\n",
    "You can now define the estimator that will launch the training job. A generic Estimator will be defined by the usual constructor arguments and an `image_name`. \n",
    "> You can take a look at the [estimator source code](https://github.com/aws/sagemaker-python-sdk/blob/master/src/sagemaker/estimator.py#L595) to view specifics.\n"
   ]
  },
  {
   "cell_type": "code",
   "execution_count": 86,
   "metadata": {},
   "outputs": [],
   "source": [
    "from sagemaker.estimator import Estimator\n",
    "\n",
    "# dir to save model artifacts\n",
    "s3_output_path = \"s3://{}/{}/output\".format(bucket, prefix)\n",
    "\n",
    "# instantiate a DeepAR estimator\n",
    "estimator = Estimator(sagemaker_session=sagemaker_session,\n",
    "                      image_name=image_name,\n",
    "                      role=role,\n",
    "                      train_instance_count=1,\n",
    "                      train_instance_type='ml.c4.2xlarge',\n",
    "                      output_path=s3_output_path\n",
    "                      )\n"
   ]
  },
  {
   "cell_type": "markdown",
   "metadata": {},
   "source": [
    "## Setting Hyperparameters\n",
    "\n",
    "Next, we need to define some DeepAR hyperparameters that define the model size and training behavior. Values for the epochs, frequency, prediction length, and context length are required.\n",
    "\n",
    "* **epochs**: The maximum number of times to pass over the data when training.\n",
    "* **time_freq**: The granularity of the time series in the dataset ('D' for daily).\n",
    "* **prediction_length**: A string; the number of time steps (based off the unit of frequency) that the model is trained to predict. \n",
    "* **context_length**: The number of time points that the model gets to see *before* making a prediction. \n",
    "\n",
    "### Context Length\n",
    "\n",
    "Typically, it is recommended that you start with a `context_length`=`prediction_length`. This is because a DeepAR model also receives \"lagged\" inputs from the target time series, which allow the model to capture long-term dependencies. For example, a daily time series can have yearly seasonality and DeepAR automatically includes a lag of one year. So, the context length can be shorter than a year, and the model will still be able to capture this seasonality. \n",
    "\n",
    "The lag values that the model picks depend on the frequency of the time series. For example, lag values for daily frequency are the previous week, 2 weeks, 3 weeks, 4 weeks, and year. You can read more about this in the [DeepAR \"how it works\" documentation](https://docs.aws.amazon.com/sagemaker/latest/dg/deepar_how-it-works.html).\n",
    "\n",
    "### Optional Hyperparameters\n",
    "\n",
    "You can also configure optional hyperparameters to further tune your model. These include parameters like the number of layers in our RNN model, the number of cells per layer, the likelihood function, and the training options, such as batch size and learning rate. \n",
    "\n",
    "For an exhaustive list of all the different DeepAR hyperparameters you can refer to the DeepAR [hyperparameter documentation](https://docs.aws.amazon.com/sagemaker/latest/dg/deepar_hyperparameters.html)."
   ]
  },
  {
   "cell_type": "code",
   "execution_count": 87,
   "metadata": {},
   "outputs": [],
   "source": [
    "freq='H' # Hourly\n",
    "context_length = 24\n",
    "prediction_length = 24\n",
    "\n",
    "hyperparameters = {\n",
    "    \"epochs\": \"1000\",\n",
    "    \"time_freq\": freq,\n",
    "    \"prediction_length\": str(prediction_length),\n",
    "    \"context_length\": str(context_length),\n",
    "    \"num_cells\": \"50\",\n",
    "    \"num_layers\": \"3\",\n",
    "    \"mini_batch_size\": \"128\",\n",
    "    \"learning_rate\": \"0.001\",\n",
    "    \"early_stopping_patience\": \"10\"\n",
    "}"
   ]
  },
  {
   "cell_type": "code",
   "execution_count": 88,
   "metadata": {},
   "outputs": [],
   "source": [
    "# set the hyperparams\n",
    "estimator.set_hyperparameters(**hyperparameters)"
   ]
  },
  {
   "cell_type": "markdown",
   "metadata": {},
   "source": [
    "## Training Job\n",
    "\n",
    "Now, we are ready to launch the training job! SageMaker will start an EC2 instance, download the data from S3, start training the model and save the trained model.\n",
    "\n",
    "If you provide the `test` data channel, as we do in this example, DeepAR will also calculate accuracy metrics for the trained model on this test data set. This is done by predicting the last `prediction_length` points of each time series in the test set and comparing this to the *actual* value of the time series. The computed error metrics will be included as part of the log output.\n",
    "\n",
    "The next cell may take a few minutes to complete, depending on data size, model complexity, and training options."
   ]
  },
  {
   "cell_type": "code",
   "execution_count": 89,
   "metadata": {},
   "outputs": [
    {
     "name": "stdout",
     "output_type": "stream",
     "text": [
      "2020-01-05 05:26:40 Starting - Starting the training job...\n",
      "2020-01-05 05:26:41 Starting - Launching requested ML instances......\n",
      "2020-01-05 05:28:09 Starting - Preparing the instances for training......\n",
      "2020-01-05 05:29:07 Downloading - Downloading input data\n",
      "2020-01-05 05:29:07 Training - Downloading the training image...\n",
      "2020-01-05 05:29:26 Training - Training image download completed. Training in progress.\u001b[34mArguments: train\u001b[0m\n",
      "\u001b[34m[01/05/2020 05:29:28 INFO 139712241891136] Reading default configuration from /opt/amazon/lib/python2.7/site-packages/algorithm/resources/default-input.json: {u'num_dynamic_feat': u'auto', u'dropout_rate': u'0.10', u'mini_batch_size': u'128', u'test_quantiles': u'[0.1, 0.2, 0.3, 0.4, 0.5, 0.6, 0.7, 0.8, 0.9]', u'_tuning_objective_metric': u'', u'_num_gpus': u'auto', u'num_eval_samples': u'100', u'learning_rate': u'0.001', u'num_cells': u'40', u'num_layers': u'2', u'embedding_dimension': u'10', u'_kvstore': u'auto', u'_num_kv_servers': u'auto', u'cardinality': u'auto', u'likelihood': u'student-t', u'early_stopping_patience': u''}\u001b[0m\n",
      "\u001b[34m[01/05/2020 05:29:28 INFO 139712241891136] Reading provided configuration from /opt/ml/input/config/hyperparameters.json: {u'learning_rate': u'0.001', u'num_cells': u'50', u'prediction_length': u'24', u'epochs': u'1000', u'time_freq': u'H', u'context_length': u'24', u'num_layers': u'3', u'mini_batch_size': u'128', u'early_stopping_patience': u'10'}\u001b[0m\n",
      "\u001b[34m[01/05/2020 05:29:28 INFO 139712241891136] Final configuration: {u'dropout_rate': u'0.10', u'test_quantiles': u'[0.1, 0.2, 0.3, 0.4, 0.5, 0.6, 0.7, 0.8, 0.9]', u'_tuning_objective_metric': u'', u'num_eval_samples': u'100', u'learning_rate': u'0.001', u'num_layers': u'3', u'epochs': u'1000', u'embedding_dimension': u'10', u'num_cells': u'50', u'_num_kv_servers': u'auto', u'mini_batch_size': u'128', u'likelihood': u'student-t', u'num_dynamic_feat': u'auto', u'cardinality': u'auto', u'_num_gpus': u'auto', u'prediction_length': u'24', u'time_freq': u'H', u'context_length': u'24', u'_kvstore': u'auto', u'early_stopping_patience': u'10'}\u001b[0m\n",
      "\u001b[34mProcess 1 is a worker.\u001b[0m\n",
      "\u001b[34m[01/05/2020 05:29:28 INFO 139712241891136] Detected entry point for worker worker\u001b[0m\n",
      "\u001b[34m[01/05/2020 05:29:29 INFO 139712241891136] Using early stopping with patience 10\u001b[0m\n",
      "\u001b[34m[01/05/2020 05:29:29 INFO 139712241891136] [cardinality=auto] `cat` field was NOT found in the file `/opt/ml/input/data/train/train.json` and will NOT be used for training.\u001b[0m\n",
      "\u001b[34m[01/05/2020 05:29:29 INFO 139712241891136] [num_dynamic_feat=auto] `dynamic_feat` field was found in the file `/opt/ml/input/data/train/train.json` and will be used for training.\u001b[0m\n",
      "\u001b[34m[01/05/2020 05:29:29 INFO 139712241891136] [num_dynamic_feat=auto] Inferred value of num_dynamic_feat=1 from dataset.\u001b[0m\n",
      "\u001b[34m[01/05/2020 05:29:29 INFO 139712241891136] Training set statistics:\u001b[0m\n",
      "\u001b[34m[01/05/2020 05:29:29 INFO 139712241891136] Real time series\u001b[0m\n",
      "\u001b[34m[01/05/2020 05:29:29 INFO 139712241891136] number of time series: 1\u001b[0m\n",
      "\u001b[34m[01/05/2020 05:29:29 INFO 139712241891136] number of observations: 221676\u001b[0m\n",
      "\u001b[34m[01/05/2020 05:29:29 INFO 139712241891136] mean target length: 221676\u001b[0m\n",
      "\u001b[34m[01/05/2020 05:29:29 INFO 139712241891136] min/mean/max target: 0.0/0.970157530021/567.881591797\u001b[0m\n",
      "\u001b[34m[01/05/2020 05:29:29 INFO 139712241891136] mean abs(target): 0.970157530021\u001b[0m\n",
      "\u001b[34m[01/05/2020 05:29:29 INFO 139712241891136] contains missing values: no\u001b[0m\n",
      "\u001b[34m[01/05/2020 05:29:29 INFO 139712241891136] Small number of time series. Doing 10 number of passes over dataset per epoch.\u001b[0m\n",
      "\u001b[34m[01/05/2020 05:29:29 INFO 139712241891136] Test set statistics:\u001b[0m\n",
      "\u001b[34m[01/05/2020 05:29:29 INFO 139712241891136] Real time series\u001b[0m\n",
      "\u001b[34m[01/05/2020 05:29:29 INFO 139712241891136] number of time series: 1\u001b[0m\n",
      "\u001b[34m[01/05/2020 05:29:29 INFO 139712241891136] number of observations: 221676\u001b[0m\n",
      "\u001b[34m[01/05/2020 05:29:29 INFO 139712241891136] mean target length: 221676\u001b[0m\n",
      "\u001b[34m[01/05/2020 05:29:29 INFO 139712241891136] min/mean/max target: 0.0/0.970157530021/567.881591797\u001b[0m\n",
      "\u001b[34m[01/05/2020 05:29:29 INFO 139712241891136] mean abs(target): 0.970157530021\u001b[0m\n",
      "\u001b[34m[01/05/2020 05:29:29 INFO 139712241891136] contains missing values: no\u001b[0m\n",
      "\u001b[34m[01/05/2020 05:29:29 INFO 139712241891136] nvidia-smi took: 0.0252659320831 secs to identify 0 gpus\u001b[0m\n",
      "\u001b[34m[01/05/2020 05:29:29 INFO 139712241891136] Number of GPUs being used: 0\u001b[0m\n",
      "\u001b[34m[01/05/2020 05:29:29 INFO 139712241891136] Create Store: local\u001b[0m\n",
      "\u001b[34m#metrics {\"Metrics\": {\"get_graph.time\": {\"count\": 1, \"max\": 930.0200939178467, \"sum\": 930.0200939178467, \"min\": 930.0200939178467}}, \"EndTime\": 1578202170.073708, \"Dimensions\": {\"Host\": \"algo-1\", \"Operation\": \"training\", \"Algorithm\": \"AWS/DeepAR\"}, \"StartTime\": 1578202169.142866}\n",
      "\u001b[0m\n",
      "\u001b[34m[01/05/2020 05:29:30 INFO 139712241891136] Number of GPUs being used: 0\u001b[0m\n",
      "\u001b[34m#metrics {\"Metrics\": {\"initialize.time\": {\"count\": 1, \"max\": 1380.5840015411377, \"sum\": 1380.5840015411377, \"min\": 1380.5840015411377}}, \"EndTime\": 1578202170.523562, \"Dimensions\": {\"Host\": \"algo-1\", \"Operation\": \"training\", \"Algorithm\": \"AWS/DeepAR\"}, \"StartTime\": 1578202170.073857}\n",
      "\u001b[0m\n",
      "\u001b[34m[01/05/2020 05:29:39 INFO 139712241891136] Epoch[0] Batch[0] avg_epoch_loss=-0.471771\u001b[0m\n",
      "\u001b[34m[01/05/2020 05:29:39 INFO 139712241891136] #quality_metric: host=algo-1, epoch=0, batch=0 train loss <loss>=-0.471771210432\u001b[0m\n",
      "\u001b[34m[01/05/2020 05:29:41 INFO 139712241891136] Epoch[0] Batch[5] avg_epoch_loss=-0.822975\u001b[0m\n",
      "\u001b[34m[01/05/2020 05:29:41 INFO 139712241891136] #quality_metric: host=algo-1, epoch=0, batch=5 train loss <loss>=-0.822975014647\u001b[0m\n",
      "\u001b[34m[01/05/2020 05:29:41 INFO 139712241891136] Epoch[0] Batch [5]#011Speed: 350.77 samples/sec#011loss=-0.822975\u001b[0m\n",
      "\u001b[34m[01/05/2020 05:29:43 INFO 139712241891136] Epoch[0] Batch[10] avg_epoch_loss=-1.088327\u001b[0m\n",
      "\u001b[34m[01/05/2020 05:29:43 INFO 139712241891136] #quality_metric: host=algo-1, epoch=0, batch=10 train loss <loss>=-1.40674858093\u001b[0m\n",
      "\u001b[34m[01/05/2020 05:29:43 INFO 139712241891136] Epoch[0] Batch [10]#011Speed: 315.77 samples/sec#011loss=-1.406749\u001b[0m\n",
      "\u001b[34m[01/05/2020 05:29:43 INFO 139712241891136] processed a total of 1313 examples\u001b[0m\n",
      "\u001b[34m#metrics {\"Metrics\": {\"epochs\": {\"count\": 1, \"max\": 1000, \"sum\": 1000.0, \"min\": 1000}, \"update.time\": {\"count\": 1, \"max\": 12604.947090148926, \"sum\": 12604.947090148926, \"min\": 12604.947090148926}}, \"EndTime\": 1578202183.128701, \"Dimensions\": {\"Host\": \"algo-1\", \"Operation\": \"training\", \"Algorithm\": \"AWS/DeepAR\"}, \"StartTime\": 1578202170.523627}\n",
      "\u001b[0m\n",
      "\u001b[34m[01/05/2020 05:29:43 INFO 139712241891136] #throughput_metric: host=algo-1, train throughput=104.164469942 records/second\u001b[0m\n",
      "\u001b[34m[01/05/2020 05:29:43 INFO 139712241891136] #progress_metric: host=algo-1, completed 0 % of epochs\u001b[0m\n",
      "\u001b[34m[01/05/2020 05:29:43 INFO 139712241891136] #quality_metric: host=algo-1, epoch=0, train loss <loss>=-1.08832663569\u001b[0m\n",
      "\u001b[34m[01/05/2020 05:29:43 INFO 139712241891136] best epoch loss so far\u001b[0m\n",
      "\u001b[34m[01/05/2020 05:29:43 INFO 139712241891136] Saved checkpoint to \"/opt/ml/model/state_a5fd607b-f306-4835-8b7a-1e6df31559bc-0000.params\"\u001b[0m\n",
      "\u001b[34m#metrics {\"Metrics\": {\"state.serialize.time\": {\"count\": 1, \"max\": 25.777816772460938, \"sum\": 25.777816772460938, \"min\": 25.777816772460938}}, \"EndTime\": 1578202183.155092, \"Dimensions\": {\"Host\": \"algo-1\", \"Operation\": \"training\", \"Algorithm\": \"AWS/DeepAR\"}, \"StartTime\": 1578202183.12878}\n",
      "\u001b[0m\n",
      "\u001b[34m[01/05/2020 05:29:46 INFO 139712241891136] Epoch[1] Batch[0] avg_epoch_loss=-1.382807\u001b[0m\n",
      "\u001b[34m[01/05/2020 05:29:46 INFO 139712241891136] #quality_metric: host=algo-1, epoch=1, batch=0 train loss <loss>=-1.38280689716\u001b[0m\n",
      "\u001b[34m[01/05/2020 05:29:47 INFO 139712241891136] Epoch[1] Batch[5] avg_epoch_loss=-1.425338\u001b[0m\n",
      "\u001b[34m[01/05/2020 05:29:47 INFO 139712241891136] #quality_metric: host=algo-1, epoch=1, batch=5 train loss <loss>=-1.42533793052\u001b[0m\n",
      "\u001b[34m[01/05/2020 05:29:47 INFO 139712241891136] Epoch[1] Batch [5]#011Speed: 382.23 samples/sec#011loss=-1.425338\u001b[0m\n",
      "\u001b[34m[01/05/2020 05:29:49 INFO 139712241891136] processed a total of 1260 examples\u001b[0m\n",
      "\u001b[34m#metrics {\"Metrics\": {\"update.time\": {\"count\": 1, \"max\": 6196.940898895264, \"sum\": 6196.940898895264, \"min\": 6196.940898895264}}, \"EndTime\": 1578202189.352161, \"Dimensions\": {\"Host\": \"algo-1\", \"Operation\": \"training\", \"Algorithm\": \"AWS/DeepAR\"}, \"StartTime\": 1578202183.155163}\n",
      "\u001b[0m\n",
      "\u001b[34m[01/05/2020 05:29:49 INFO 139712241891136] #throughput_metric: host=algo-1, train throughput=203.322318678 records/second\u001b[0m\n",
      "\u001b[34m[01/05/2020 05:29:49 INFO 139712241891136] #progress_metric: host=algo-1, completed 0 % of epochs\u001b[0m\n",
      "\u001b[34m[01/05/2020 05:29:49 INFO 139712241891136] #quality_metric: host=algo-1, epoch=1, train loss <loss>=-1.42104405165\u001b[0m\n",
      "\u001b[34m[01/05/2020 05:29:49 INFO 139712241891136] best epoch loss so far\u001b[0m\n",
      "\u001b[34m[01/05/2020 05:29:49 INFO 139712241891136] Saved checkpoint to \"/opt/ml/model/state_5c2c894b-bc82-4f56-99d1-48f83c2e9c62-0000.params\"\u001b[0m\n",
      "\u001b[34m#metrics {\"Metrics\": {\"state.serialize.time\": {\"count\": 1, \"max\": 35.95614433288574, \"sum\": 35.95614433288574, \"min\": 35.95614433288574}}, \"EndTime\": 1578202189.388694, \"Dimensions\": {\"Host\": \"algo-1\", \"Operation\": \"training\", \"Algorithm\": \"AWS/DeepAR\"}, \"StartTime\": 1578202189.352242}\n",
      "\u001b[0m\n",
      "\u001b[34m[01/05/2020 05:29:52 INFO 139712241891136] Epoch[2] Batch[0] avg_epoch_loss=-1.487051\u001b[0m\n",
      "\u001b[34m[01/05/2020 05:29:52 INFO 139712241891136] #quality_metric: host=algo-1, epoch=2, batch=0 train loss <loss>=-1.48705077171\u001b[0m\n",
      "\u001b[34m[01/05/2020 05:29:53 INFO 139712241891136] Epoch[2] Batch[5] avg_epoch_loss=-1.761057\u001b[0m\n",
      "\u001b[34m[01/05/2020 05:29:53 INFO 139712241891136] #quality_metric: host=algo-1, epoch=2, batch=5 train loss <loss>=-1.76105743647\u001b[0m\n",
      "\u001b[34m[01/05/2020 05:29:53 INFO 139712241891136] Epoch[2] Batch [5]#011Speed: 391.32 samples/sec#011loss=-1.761057\u001b[0m\n",
      "\u001b[34m[01/05/2020 05:29:55 INFO 139712241891136] processed a total of 1199 examples\u001b[0m\n",
      "\u001b[34m#metrics {\"Metrics\": {\"update.time\": {\"count\": 1, \"max\": 6193.289995193481, \"sum\": 6193.289995193481, \"min\": 6193.289995193481}}, \"EndTime\": 1578202195.582114, \"Dimensions\": {\"Host\": \"algo-1\", \"Operation\": \"training\", \"Algorithm\": \"AWS/DeepAR\"}, \"StartTime\": 1578202189.388767}\n",
      "\u001b[0m\n",
      "\u001b[34m[01/05/2020 05:29:55 INFO 139712241891136] #throughput_metric: host=algo-1, train throughput=193.5932722 records/second\u001b[0m\n",
      "\u001b[34m[01/05/2020 05:29:55 INFO 139712241891136] #progress_metric: host=algo-1, completed 0 % of epochs\u001b[0m\n",
      "\u001b[34m[01/05/2020 05:29:55 INFO 139712241891136] #quality_metric: host=algo-1, epoch=2, train loss <loss>=-1.69223791361\u001b[0m\n",
      "\u001b[34m[01/05/2020 05:29:55 INFO 139712241891136] best epoch loss so far\u001b[0m\n",
      "\u001b[34m[01/05/2020 05:29:55 INFO 139712241891136] Saved checkpoint to \"/opt/ml/model/state_695dffec-3b18-40f0-aede-506c32e1eff1-0000.params\"\u001b[0m\n",
      "\u001b[34m#metrics {\"Metrics\": {\"state.serialize.time\": {\"count\": 1, \"max\": 21.828889846801758, \"sum\": 21.828889846801758, \"min\": 21.828889846801758}}, \"EndTime\": 1578202195.604562, \"Dimensions\": {\"Host\": \"algo-1\", \"Operation\": \"training\", \"Algorithm\": \"AWS/DeepAR\"}, \"StartTime\": 1578202195.582189}\n",
      "\u001b[0m\n",
      "\u001b[34m[01/05/2020 05:29:58 INFO 139712241891136] Epoch[3] Batch[0] avg_epoch_loss=-1.828120\u001b[0m\n",
      "\u001b[34m[01/05/2020 05:29:58 INFO 139712241891136] #quality_metric: host=algo-1, epoch=3, batch=0 train loss <loss>=-1.82812011242\u001b[0m\n",
      "\u001b[34m[01/05/2020 05:30:00 INFO 139712241891136] Epoch[3] Batch[5] avg_epoch_loss=-1.767419\u001b[0m\n",
      "\u001b[34m[01/05/2020 05:30:00 INFO 139712241891136] #quality_metric: host=algo-1, epoch=3, batch=5 train loss <loss>=-1.76741923889\u001b[0m\n",
      "\u001b[34m[01/05/2020 05:30:00 INFO 139712241891136] Epoch[3] Batch [5]#011Speed: 399.17 samples/sec#011loss=-1.767419\u001b[0m\n",
      "\u001b[34m[01/05/2020 05:30:02 INFO 139712241891136] Epoch[3] Batch[10] avg_epoch_loss=-1.690138\u001b[0m\n",
      "\u001b[34m[01/05/2020 05:30:02 INFO 139712241891136] #quality_metric: host=algo-1, epoch=3, batch=10 train loss <loss>=-1.59740083218\u001b[0m\n",
      "\u001b[34m[01/05/2020 05:30:02 INFO 139712241891136] Epoch[3] Batch [10]#011Speed: 322.13 samples/sec#011loss=-1.597401\u001b[0m\n",
      "\u001b[34m[01/05/2020 05:30:02 INFO 139712241891136] processed a total of 1284 examples\u001b[0m\n",
      "\u001b[34m#metrics {\"Metrics\": {\"update.time\": {\"count\": 1, \"max\": 6598.477840423584, \"sum\": 6598.477840423584, \"min\": 6598.477840423584}}, \"EndTime\": 1578202202.203157, \"Dimensions\": {\"Host\": \"algo-1\", \"Operation\": \"training\", \"Algorithm\": \"AWS/DeepAR\"}, \"StartTime\": 1578202195.604623}\n",
      "\u001b[0m\n",
      "\u001b[34m[01/05/2020 05:30:02 INFO 139712241891136] #throughput_metric: host=algo-1, train throughput=194.587408105 records/second\u001b[0m\n",
      "\u001b[34m[01/05/2020 05:30:02 INFO 139712241891136] #progress_metric: host=algo-1, completed 0 % of epochs\u001b[0m\n",
      "\u001b[34m[01/05/2020 05:30:02 INFO 139712241891136] #quality_metric: host=algo-1, epoch=3, train loss <loss>=-1.69013814493\u001b[0m\n",
      "\u001b[34m[01/05/2020 05:30:02 INFO 139712241891136] loss did not improve\u001b[0m\n",
      "\u001b[34m[01/05/2020 05:30:05 INFO 139712241891136] Epoch[4] Batch[0] avg_epoch_loss=-1.864692\u001b[0m\n",
      "\u001b[34m[01/05/2020 05:30:05 INFO 139712241891136] #quality_metric: host=algo-1, epoch=4, batch=0 train loss <loss>=-1.86469209194\u001b[0m\n",
      "\u001b[34m[01/05/2020 05:30:06 INFO 139712241891136] Epoch[4] Batch[5] avg_epoch_loss=-1.984204\u001b[0m\n",
      "\u001b[34m[01/05/2020 05:30:06 INFO 139712241891136] #quality_metric: host=algo-1, epoch=4, batch=5 train loss <loss>=-1.98420421282\u001b[0m\n",
      "\u001b[34m[01/05/2020 05:30:06 INFO 139712241891136] Epoch[4] Batch [5]#011Speed: 392.40 samples/sec#011loss=-1.984204\u001b[0m\n",
      "\u001b[34m[01/05/2020 05:30:08 INFO 139712241891136] processed a total of 1278 examples\u001b[0m\n",
      "\u001b[34m#metrics {\"Metrics\": {\"update.time\": {\"count\": 1, \"max\": 6180.61089515686, \"sum\": 6180.61089515686, \"min\": 6180.61089515686}}, \"EndTime\": 1578202208.38432, \"Dimensions\": {\"Host\": \"algo-1\", \"Operation\": \"training\", \"Algorithm\": \"AWS/DeepAR\"}, \"StartTime\": 1578202202.203223}\n",
      "\u001b[0m\n",
      "\u001b[34m[01/05/2020 05:30:08 INFO 139712241891136] #throughput_metric: host=algo-1, train throughput=206.771552929 records/second\u001b[0m\n",
      "\u001b[34m[01/05/2020 05:30:08 INFO 139712241891136] #progress_metric: host=algo-1, completed 0 % of epochs\u001b[0m\n",
      "\u001b[34m[01/05/2020 05:30:08 INFO 139712241891136] #quality_metric: host=algo-1, epoch=4, train loss <loss>=-1.93210631609\u001b[0m\n",
      "\u001b[34m[01/05/2020 05:30:08 INFO 139712241891136] best epoch loss so far\u001b[0m\n",
      "\u001b[34m[01/05/2020 05:30:08 INFO 139712241891136] Saved checkpoint to \"/opt/ml/model/state_ba787a67-4e93-43ab-b836-63e11d810b92-0000.params\"\u001b[0m\n",
      "\u001b[34m#metrics {\"Metrics\": {\"state.serialize.time\": {\"count\": 1, \"max\": 36.84091567993164, \"sum\": 36.84091567993164, \"min\": 36.84091567993164}}, \"EndTime\": 1578202208.421741, \"Dimensions\": {\"Host\": \"algo-1\", \"Operation\": \"training\", \"Algorithm\": \"AWS/DeepAR\"}, \"StartTime\": 1578202208.384406}\n",
      "\u001b[0m\n",
      "\u001b[34m[01/05/2020 05:30:11 INFO 139712241891136] Epoch[5] Batch[0] avg_epoch_loss=-1.673854\u001b[0m\n",
      "\u001b[34m[01/05/2020 05:30:11 INFO 139712241891136] #quality_metric: host=algo-1, epoch=5, batch=0 train loss <loss>=-1.673853755\u001b[0m\n",
      "\u001b[34m[01/05/2020 05:30:13 INFO 139712241891136] Epoch[5] Batch[5] avg_epoch_loss=-2.133051\u001b[0m\n",
      "\u001b[34m[01/05/2020 05:30:13 INFO 139712241891136] #quality_metric: host=algo-1, epoch=5, batch=5 train loss <loss>=-2.1330512166\u001b[0m\n",
      "\u001b[34m[01/05/2020 05:30:13 INFO 139712241891136] Epoch[5] Batch [5]#011Speed: 372.51 samples/sec#011loss=-2.133051\u001b[0m\n",
      "\u001b[34m[01/05/2020 05:30:14 INFO 139712241891136] processed a total of 1242 examples\u001b[0m\n",
      "\u001b[34m#metrics {\"Metrics\": {\"update.time\": {\"count\": 1, \"max\": 6376.768112182617, \"sum\": 6376.768112182617, \"min\": 6376.768112182617}}, \"EndTime\": 1578202214.798644, \"Dimensions\": {\"Host\": \"algo-1\", \"Operation\": \"training\", \"Algorithm\": \"AWS/DeepAR\"}, \"StartTime\": 1578202208.421821}\n",
      "\u001b[0m\n",
      "\u001b[34m[01/05/2020 05:30:14 INFO 139712241891136] #throughput_metric: host=algo-1, train throughput=194.765883457 records/second\u001b[0m\n",
      "\u001b[34m[01/05/2020 05:30:14 INFO 139712241891136] #progress_metric: host=algo-1, completed 0 % of epochs\u001b[0m\n",
      "\u001b[34m[01/05/2020 05:30:14 INFO 139712241891136] #quality_metric: host=algo-1, epoch=5, train loss <loss>=-2.16177710295\u001b[0m\n",
      "\u001b[34m[01/05/2020 05:30:14 INFO 139712241891136] best epoch loss so far\u001b[0m\n",
      "\u001b[34m[01/05/2020 05:30:14 INFO 139712241891136] Saved checkpoint to \"/opt/ml/model/state_0d86147e-965e-45d6-a63f-1b00aff171a4-0000.params\"\u001b[0m\n",
      "\u001b[34m#metrics {\"Metrics\": {\"state.serialize.time\": {\"count\": 1, \"max\": 36.03410720825195, \"sum\": 36.03410720825195, \"min\": 36.03410720825195}}, \"EndTime\": 1578202214.835273, \"Dimensions\": {\"Host\": \"algo-1\", \"Operation\": \"training\", \"Algorithm\": \"AWS/DeepAR\"}, \"StartTime\": 1578202214.798728}\n",
      "\u001b[0m\n",
      "\u001b[34m[01/05/2020 05:30:17 INFO 139712241891136] Epoch[6] Batch[0] avg_epoch_loss=-2.598434\u001b[0m\n",
      "\u001b[34m[01/05/2020 05:30:17 INFO 139712241891136] #quality_metric: host=algo-1, epoch=6, batch=0 train loss <loss>=-2.59843373299\u001b[0m\n",
      "\u001b[34m[01/05/2020 05:30:19 INFO 139712241891136] Epoch[6] Batch[5] avg_epoch_loss=-2.187725\u001b[0m\n",
      "\u001b[34m[01/05/2020 05:30:19 INFO 139712241891136] #quality_metric: host=algo-1, epoch=6, batch=5 train loss <loss>=-2.18772508701\u001b[0m\n",
      "\u001b[34m[01/05/2020 05:30:19 INFO 139712241891136] Epoch[6] Batch [5]#011Speed: 386.83 samples/sec#011loss=-2.187725\u001b[0m\n",
      "\u001b[34m[01/05/2020 05:30:21 INFO 139712241891136] processed a total of 1258 examples\u001b[0m\n",
      "\u001b[34m#metrics {\"Metrics\": {\"update.time\": {\"count\": 1, \"max\": 6193.453073501587, \"sum\": 6193.453073501587, \"min\": 6193.453073501587}}, \"EndTime\": 1578202221.028848, \"Dimensions\": {\"Host\": \"algo-1\", \"Operation\": \"training\", \"Algorithm\": \"AWS/DeepAR\"}, \"StartTime\": 1578202214.835339}\n",
      "\u001b[0m\n",
      "\u001b[34m[01/05/2020 05:30:21 INFO 139712241891136] #throughput_metric: host=algo-1, train throughput=203.113909151 records/second\u001b[0m\n",
      "\u001b[34m[01/05/2020 05:30:21 INFO 139712241891136] #progress_metric: host=algo-1, completed 0 % of epochs\u001b[0m\n",
      "\u001b[34m[01/05/2020 05:30:21 INFO 139712241891136] #quality_metric: host=algo-1, epoch=6, train loss <loss>=-2.23857973814\u001b[0m\n",
      "\u001b[34m[01/05/2020 05:30:21 INFO 139712241891136] best epoch loss so far\u001b[0m\n",
      "\u001b[34m[01/05/2020 05:30:21 INFO 139712241891136] Saved checkpoint to \"/opt/ml/model/state_bd94a7f4-24b2-4c06-a02b-561f952c5546-0000.params\"\u001b[0m\n",
      "\u001b[34m#metrics {\"Metrics\": {\"state.serialize.time\": {\"count\": 1, \"max\": 36.717891693115234, \"sum\": 36.717891693115234, \"min\": 36.717891693115234}}, \"EndTime\": 1578202221.066154, \"Dimensions\": {\"Host\": \"algo-1\", \"Operation\": \"training\", \"Algorithm\": \"AWS/DeepAR\"}, \"StartTime\": 1578202221.02893}\n",
      "\u001b[0m\n",
      "\u001b[34m[01/05/2020 05:30:24 INFO 139712241891136] Epoch[7] Batch[0] avg_epoch_loss=-2.113829\u001b[0m\n",
      "\u001b[34m[01/05/2020 05:30:24 INFO 139712241891136] #quality_metric: host=algo-1, epoch=7, batch=0 train loss <loss>=-2.11382937431\u001b[0m\n",
      "\u001b[34m[01/05/2020 05:30:25 INFO 139712241891136] Epoch[7] Batch[5] avg_epoch_loss=-2.391533\u001b[0m\n",
      "\u001b[34m[01/05/2020 05:30:25 INFO 139712241891136] #quality_metric: host=algo-1, epoch=7, batch=5 train loss <loss>=-2.39153277874\u001b[0m\n",
      "\u001b[34m[01/05/2020 05:30:25 INFO 139712241891136] Epoch[7] Batch [5]#011Speed: 368.74 samples/sec#011loss=-2.391533\u001b[0m\n",
      "\u001b[34m[01/05/2020 05:30:27 INFO 139712241891136] processed a total of 1277 examples\u001b[0m\n",
      "\u001b[34m#metrics {\"Metrics\": {\"update.time\": {\"count\": 1, \"max\": 6313.162088394165, \"sum\": 6313.162088394165, \"min\": 6313.162088394165}}, \"EndTime\": 1578202227.379444, \"Dimensions\": {\"Host\": \"algo-1\", \"Operation\": \"training\", \"Algorithm\": \"AWS/DeepAR\"}, \"StartTime\": 1578202221.06622}\n",
      "\u001b[0m\n",
      "\u001b[34m[01/05/2020 05:30:27 INFO 139712241891136] #throughput_metric: host=algo-1, train throughput=202.272040345 records/second\u001b[0m\n",
      "\u001b[34m[01/05/2020 05:30:27 INFO 139712241891136] #progress_metric: host=algo-1, completed 0 % of epochs\u001b[0m\n",
      "\u001b[34m[01/05/2020 05:30:27 INFO 139712241891136] #quality_metric: host=algo-1, epoch=7, train loss <loss>=-2.29578082561\u001b[0m\n",
      "\u001b[34m[01/05/2020 05:30:27 INFO 139712241891136] best epoch loss so far\u001b[0m\n",
      "\u001b[34m[01/05/2020 05:30:27 INFO 139712241891136] Saved checkpoint to \"/opt/ml/model/state_94440c0e-2f27-45d2-825d-3db85eeaae6d-0000.params\"\u001b[0m\n",
      "\u001b[34m#metrics {\"Metrics\": {\"state.serialize.time\": {\"count\": 1, \"max\": 35.717010498046875, \"sum\": 35.717010498046875, \"min\": 35.717010498046875}}, \"EndTime\": 1578202227.41574, \"Dimensions\": {\"Host\": \"algo-1\", \"Operation\": \"training\", \"Algorithm\": \"AWS/DeepAR\"}, \"StartTime\": 1578202227.379526}\n",
      "\u001b[0m\n",
      "\u001b[34m[01/05/2020 05:30:30 INFO 139712241891136] Epoch[8] Batch[0] avg_epoch_loss=-2.385114\u001b[0m\n",
      "\u001b[34m[01/05/2020 05:30:30 INFO 139712241891136] #quality_metric: host=algo-1, epoch=8, batch=0 train loss <loss>=-2.38511419296\u001b[0m\n",
      "\u001b[34m[01/05/2020 05:30:32 INFO 139712241891136] Epoch[8] Batch[5] avg_epoch_loss=-2.319097\u001b[0m\n",
      "\u001b[34m[01/05/2020 05:30:32 INFO 139712241891136] #quality_metric: host=algo-1, epoch=8, batch=5 train loss <loss>=-2.31909747918\u001b[0m\n",
      "\u001b[34m[01/05/2020 05:30:32 INFO 139712241891136] Epoch[8] Batch [5]#011Speed: 376.69 samples/sec#011loss=-2.319097\u001b[0m\n",
      "\u001b[34m[01/05/2020 05:30:34 INFO 139712241891136] Epoch[8] Batch[10] avg_epoch_loss=-2.651331\u001b[0m\n",
      "\u001b[34m[01/05/2020 05:30:34 INFO 139712241891136] #quality_metric: host=algo-1, epoch=8, batch=10 train loss <loss>=-3.05001192093\u001b[0m\n",
      "\u001b[34m[01/05/2020 05:30:34 INFO 139712241891136] Epoch[8] Batch [10]#011Speed: 315.43 samples/sec#011loss=-3.050012\u001b[0m\n",
      "\u001b[34m[01/05/2020 05:30:34 INFO 139712241891136] processed a total of 1287 examples\u001b[0m\n",
      "\u001b[34m#metrics {\"Metrics\": {\"update.time\": {\"count\": 1, \"max\": 6745.96095085144, \"sum\": 6745.96095085144, \"min\": 6745.96095085144}}, \"EndTime\": 1578202234.161825, \"Dimensions\": {\"Host\": \"algo-1\", \"Operation\": \"training\", \"Algorithm\": \"AWS/DeepAR\"}, \"StartTime\": 1578202227.415806}\n",
      "\u001b[0m\n",
      "\u001b[34m[01/05/2020 05:30:34 INFO 139712241891136] #throughput_metric: host=algo-1, train throughput=190.777602714 records/second\u001b[0m\n",
      "\u001b[34m[01/05/2020 05:30:34 INFO 139712241891136] #progress_metric: host=algo-1, completed 0 % of epochs\u001b[0m\n",
      "\u001b[34m[01/05/2020 05:30:34 INFO 139712241891136] #quality_metric: host=algo-1, epoch=8, train loss <loss>=-2.65133131634\u001b[0m\n",
      "\u001b[34m[01/05/2020 05:30:34 INFO 139712241891136] best epoch loss so far\u001b[0m\n",
      "\u001b[34m[01/05/2020 05:30:34 INFO 139712241891136] Saved checkpoint to \"/opt/ml/model/state_006dd925-b99a-4754-8492-57c086336e85-0000.params\"\u001b[0m\n",
      "\u001b[34m#metrics {\"Metrics\": {\"state.serialize.time\": {\"count\": 1, \"max\": 36.21506690979004, \"sum\": 36.21506690979004, \"min\": 36.21506690979004}}, \"EndTime\": 1578202234.198587, \"Dimensions\": {\"Host\": \"algo-1\", \"Operation\": \"training\", \"Algorithm\": \"AWS/DeepAR\"}, \"StartTime\": 1578202234.161903}\n",
      "\u001b[0m\n",
      "\u001b[34m[01/05/2020 05:30:37 INFO 139712241891136] Epoch[9] Batch[0] avg_epoch_loss=-2.098548\u001b[0m\n",
      "\u001b[34m[01/05/2020 05:30:37 INFO 139712241891136] #quality_metric: host=algo-1, epoch=9, batch=0 train loss <loss>=-2.09854769707\u001b[0m\n",
      "\u001b[34m[01/05/2020 05:30:38 INFO 139712241891136] Epoch[9] Batch[5] avg_epoch_loss=-2.161899\u001b[0m\n",
      "\u001b[34m[01/05/2020 05:30:38 INFO 139712241891136] #quality_metric: host=algo-1, epoch=9, batch=5 train loss <loss>=-2.16189901034\u001b[0m\n",
      "\u001b[34m[01/05/2020 05:30:39 INFO 139712241891136] Epoch[9] Batch [5]#011Speed: 379.46 samples/sec#011loss=-2.161899\u001b[0m\n",
      "\u001b[34m[01/05/2020 05:30:40 INFO 139712241891136] Epoch[9] Batch[10] avg_epoch_loss=-2.449391\u001b[0m\n",
      "\u001b[34m[01/05/2020 05:30:40 INFO 139712241891136] #quality_metric: host=algo-1, epoch=9, batch=10 train loss <loss>=-2.79438171387\u001b[0m\n",
      "\u001b[34m[01/05/2020 05:30:40 INFO 139712241891136] Epoch[9] Batch [10]#011Speed: 328.04 samples/sec#011loss=-2.794382\u001b[0m\n",
      "\u001b[34m[01/05/2020 05:30:40 INFO 139712241891136] processed a total of 1349 examples\u001b[0m\n",
      "\u001b[34m#metrics {\"Metrics\": {\"update.time\": {\"count\": 1, \"max\": 6754.899978637695, \"sum\": 6754.899978637695, \"min\": 6754.899978637695}}, \"EndTime\": 1578202240.953608, \"Dimensions\": {\"Host\": \"algo-1\", \"Operation\": \"training\", \"Algorithm\": \"AWS/DeepAR\"}, \"StartTime\": 1578202234.198652}\n",
      "\u001b[0m\n",
      "\u001b[34m[01/05/2020 05:30:40 INFO 139712241891136] #throughput_metric: host=algo-1, train throughput=199.703630646 records/second\u001b[0m\n",
      "\u001b[34m[01/05/2020 05:30:40 INFO 139712241891136] #progress_metric: host=algo-1, completed 1 % of epochs\u001b[0m\n",
      "\u001b[34m[01/05/2020 05:30:40 INFO 139712241891136] #quality_metric: host=algo-1, epoch=9, train loss <loss>=-2.44939114831\u001b[0m\n",
      "\u001b[34m[01/05/2020 05:30:40 INFO 139712241891136] loss did not improve\u001b[0m\n",
      "\u001b[34m[01/05/2020 05:30:43 INFO 139712241891136] Epoch[10] Batch[0] avg_epoch_loss=-2.111274\u001b[0m\n",
      "\u001b[34m[01/05/2020 05:30:43 INFO 139712241891136] #quality_metric: host=algo-1, epoch=10, batch=0 train loss <loss>=-2.11127448082\u001b[0m\n",
      "\u001b[34m[01/05/2020 05:30:45 INFO 139712241891136] Epoch[10] Batch[5] avg_epoch_loss=-2.351520\u001b[0m\n",
      "\u001b[34m[01/05/2020 05:30:45 INFO 139712241891136] #quality_metric: host=algo-1, epoch=10, batch=5 train loss <loss>=-2.35151982307\u001b[0m\n",
      "\u001b[34m[01/05/2020 05:30:45 INFO 139712241891136] Epoch[10] Batch [5]#011Speed: 393.32 samples/sec#011loss=-2.351520\u001b[0m\n",
      "\u001b[34m[01/05/2020 05:30:47 INFO 139712241891136] processed a total of 1257 examples\u001b[0m\n",
      "\u001b[34m#metrics {\"Metrics\": {\"update.time\": {\"count\": 1, \"max\": 6202.075958251953, \"sum\": 6202.075958251953, \"min\": 6202.075958251953}}, \"EndTime\": 1578202247.156203, \"Dimensions\": {\"Host\": \"algo-1\", \"Operation\": \"training\", \"Algorithm\": \"AWS/DeepAR\"}, \"StartTime\": 1578202240.953683}\n",
      "\u001b[0m\n",
      "\u001b[34m[01/05/2020 05:30:47 INFO 139712241891136] #throughput_metric: host=algo-1, train throughput=202.670645678 records/second\u001b[0m\n",
      "\u001b[34m[01/05/2020 05:30:47 INFO 139712241891136] #progress_metric: host=algo-1, completed 1 % of epochs\u001b[0m\n",
      "\u001b[34m[01/05/2020 05:30:47 INFO 139712241891136] #quality_metric: host=algo-1, epoch=10, train loss <loss>=-2.30586762428\u001b[0m\n",
      "\u001b[34m[01/05/2020 05:30:47 INFO 139712241891136] loss did not improve\u001b[0m\n",
      "\u001b[34m[01/05/2020 05:30:50 INFO 139712241891136] Epoch[11] Batch[0] avg_epoch_loss=-2.737738\u001b[0m\n",
      "\u001b[34m[01/05/2020 05:30:50 INFO 139712241891136] #quality_metric: host=algo-1, epoch=11, batch=0 train loss <loss>=-2.73773813248\u001b[0m\n",
      "\u001b[34m[01/05/2020 05:30:51 INFO 139712241891136] Epoch[11] Batch[5] avg_epoch_loss=-2.583572\u001b[0m\n",
      "\u001b[34m[01/05/2020 05:30:51 INFO 139712241891136] #quality_metric: host=algo-1, epoch=11, batch=5 train loss <loss>=-2.58357203007\u001b[0m\n",
      "\u001b[34m[01/05/2020 05:30:51 INFO 139712241891136] Epoch[11] Batch [5]#011Speed: 391.92 samples/sec#011loss=-2.583572\u001b[0m\n",
      "\u001b[34m[01/05/2020 05:30:53 INFO 139712241891136] processed a total of 1267 examples\u001b[0m\n",
      "\u001b[34m#metrics {\"Metrics\": {\"update.time\": {\"count\": 1, \"max\": 6195.4309940338135, \"sum\": 6195.4309940338135, \"min\": 6195.4309940338135}}, \"EndTime\": 1578202253.352194, \"Dimensions\": {\"Host\": \"algo-1\", \"Operation\": \"training\", \"Algorithm\": \"AWS/DeepAR\"}, \"StartTime\": 1578202247.156277}\n",
      "\u001b[0m\n",
      "\u001b[34m[01/05/2020 05:30:53 INFO 139712241891136] #throughput_metric: host=algo-1, train throughput=204.501587777 records/second\u001b[0m\n",
      "\u001b[34m[01/05/2020 05:30:53 INFO 139712241891136] #progress_metric: host=algo-1, completed 1 % of epochs\u001b[0m\n",
      "\u001b[34m[01/05/2020 05:30:53 INFO 139712241891136] #quality_metric: host=algo-1, epoch=11, train loss <loss>=-2.49165081978\u001b[0m\n",
      "\u001b[34m[01/05/2020 05:30:53 INFO 139712241891136] loss did not improve\u001b[0m\n",
      "\u001b[34m[01/05/2020 05:30:56 INFO 139712241891136] Epoch[12] Batch[0] avg_epoch_loss=-2.365574\u001b[0m\n",
      "\u001b[34m[01/05/2020 05:30:56 INFO 139712241891136] #quality_metric: host=algo-1, epoch=12, batch=0 train loss <loss>=-2.36557435989\u001b[0m\n",
      "\u001b[34m[01/05/2020 05:30:58 INFO 139712241891136] Epoch[12] Batch[5] avg_epoch_loss=-2.328893\u001b[0m\n",
      "\u001b[34m[01/05/2020 05:30:58 INFO 139712241891136] #quality_metric: host=algo-1, epoch=12, batch=5 train loss <loss>=-2.32889334361\u001b[0m\n",
      "\u001b[34m[01/05/2020 05:30:58 INFO 139712241891136] Epoch[12] Batch [5]#011Speed: 367.66 samples/sec#011loss=-2.328893\u001b[0m\n",
      "\u001b[34m[01/05/2020 05:31:00 INFO 139712241891136] Epoch[12] Batch[10] avg_epoch_loss=-2.262697\u001b[0m\n",
      "\u001b[34m[01/05/2020 05:31:00 INFO 139712241891136] #quality_metric: host=algo-1, epoch=12, batch=10 train loss <loss>=-2.18326206207\u001b[0m\n",
      "\u001b[34m[01/05/2020 05:31:00 INFO 139712241891136] Epoch[12] Batch [10]#011Speed: 332.66 samples/sec#011loss=-2.183262\u001b[0m\n",
      "\u001b[34m[01/05/2020 05:31:00 INFO 139712241891136] processed a total of 1333 examples\u001b[0m\n",
      "\u001b[34m#metrics {\"Metrics\": {\"update.time\": {\"count\": 1, \"max\": 6774.471044540405, \"sum\": 6774.471044540405, \"min\": 6774.471044540405}}, \"EndTime\": 1578202260.127239, \"Dimensions\": {\"Host\": \"algo-1\", \"Operation\": \"training\", \"Algorithm\": \"AWS/DeepAR\"}, \"StartTime\": 1578202253.352277}\n",
      "\u001b[0m\n",
      "\u001b[34m[01/05/2020 05:31:00 INFO 139712241891136] #throughput_metric: host=algo-1, train throughput=196.765020848 records/second\u001b[0m\n",
      "\u001b[34m[01/05/2020 05:31:00 INFO 139712241891136] #progress_metric: host=algo-1, completed 1 % of epochs\u001b[0m\n",
      "\u001b[34m[01/05/2020 05:31:00 INFO 139712241891136] #quality_metric: host=algo-1, epoch=12, train loss <loss>=-2.26269730655\u001b[0m\n",
      "\u001b[34m[01/05/2020 05:31:00 INFO 139712241891136] loss did not improve\u001b[0m\n",
      "\u001b[34m[01/05/2020 05:31:03 INFO 139712241891136] Epoch[13] Batch[0] avg_epoch_loss=-2.398802\u001b[0m\n",
      "\u001b[34m[01/05/2020 05:31:03 INFO 139712241891136] #quality_metric: host=algo-1, epoch=13, batch=0 train loss <loss>=-2.39880228043\u001b[0m\n",
      "\u001b[34m[01/05/2020 05:31:04 INFO 139712241891136] Epoch[13] Batch[5] avg_epoch_loss=-2.321832\u001b[0m\n",
      "\u001b[34m[01/05/2020 05:31:04 INFO 139712241891136] #quality_metric: host=algo-1, epoch=13, batch=5 train loss <loss>=-2.32183174292\u001b[0m\n",
      "\u001b[34m[01/05/2020 05:31:04 INFO 139712241891136] Epoch[13] Batch [5]#011Speed: 390.60 samples/sec#011loss=-2.321832\u001b[0m\n",
      "\u001b[34m[01/05/2020 05:31:06 INFO 139712241891136] processed a total of 1273 examples\u001b[0m\n",
      "\u001b[34m#metrics {\"Metrics\": {\"update.time\": {\"count\": 1, \"max\": 6158.80012512207, \"sum\": 6158.80012512207, \"min\": 6158.80012512207}}, \"EndTime\": 1578202266.286576, \"Dimensions\": {\"Host\": \"algo-1\", \"Operation\": \"training\", \"Algorithm\": \"AWS/DeepAR\"}, \"StartTime\": 1578202260.12731}\n",
      "\u001b[0m\n",
      "\u001b[34m[01/05/2020 05:31:06 INFO 139712241891136] #throughput_metric: host=algo-1, train throughput=206.692016701 records/second\u001b[0m\n",
      "\u001b[34m[01/05/2020 05:31:06 INFO 139712241891136] #progress_metric: host=algo-1, completed 1 % of epochs\u001b[0m\n",
      "\u001b[34m[01/05/2020 05:31:06 INFO 139712241891136] #quality_metric: host=algo-1, epoch=13, train loss <loss>=-2.31882591248\u001b[0m\n",
      "\u001b[34m[01/05/2020 05:31:06 INFO 139712241891136] loss did not improve\u001b[0m\n",
      "\u001b[34m[01/05/2020 05:31:09 INFO 139712241891136] Epoch[14] Batch[0] avg_epoch_loss=-2.578050\u001b[0m\n",
      "\u001b[34m[01/05/2020 05:31:09 INFO 139712241891136] #quality_metric: host=algo-1, epoch=14, batch=0 train loss <loss>=-2.57805037498\u001b[0m\n",
      "\u001b[34m[01/05/2020 05:31:10 INFO 139712241891136] Epoch[14] Batch[5] avg_epoch_loss=-2.519167\u001b[0m\n",
      "\u001b[34m[01/05/2020 05:31:10 INFO 139712241891136] #quality_metric: host=algo-1, epoch=14, batch=5 train loss <loss>=-2.51916686694\u001b[0m\n",
      "\u001b[34m[01/05/2020 05:31:10 INFO 139712241891136] Epoch[14] Batch [5]#011Speed: 375.67 samples/sec#011loss=-2.519167\u001b[0m\n",
      "\u001b[34m[01/05/2020 05:31:12 INFO 139712241891136] processed a total of 1266 examples\u001b[0m\n",
      "\u001b[34m#metrics {\"Metrics\": {\"update.time\": {\"count\": 1, \"max\": 6226.185083389282, \"sum\": 6226.185083389282, \"min\": 6226.185083389282}}, \"EndTime\": 1578202272.513328, \"Dimensions\": {\"Host\": \"algo-1\", \"Operation\": \"training\", \"Algorithm\": \"AWS/DeepAR\"}, \"StartTime\": 1578202266.286658}\n",
      "\u001b[0m\n",
      "\u001b[34m[01/05/2020 05:31:12 INFO 139712241891136] #throughput_metric: host=algo-1, train throughput=203.331264813 records/second\u001b[0m\n",
      "\u001b[34m[01/05/2020 05:31:12 INFO 139712241891136] #progress_metric: host=algo-1, completed 1 % of epochs\u001b[0m\n",
      "\u001b[34m[01/05/2020 05:31:12 INFO 139712241891136] #quality_metric: host=algo-1, epoch=14, train loss <loss>=-2.48334722519\u001b[0m\n",
      "\u001b[34m[01/05/2020 05:31:12 INFO 139712241891136] loss did not improve\u001b[0m\n",
      "\u001b[34m[01/05/2020 05:31:15 INFO 139712241891136] Epoch[15] Batch[0] avg_epoch_loss=-2.564045\u001b[0m\n",
      "\u001b[34m[01/05/2020 05:31:15 INFO 139712241891136] #quality_metric: host=algo-1, epoch=15, batch=0 train loss <loss>=-2.56404519081\u001b[0m\n",
      "\u001b[34m[01/05/2020 05:31:17 INFO 139712241891136] Epoch[15] Batch[5] avg_epoch_loss=-2.468272\u001b[0m\n",
      "\u001b[34m[01/05/2020 05:31:17 INFO 139712241891136] #quality_metric: host=algo-1, epoch=15, batch=5 train loss <loss>=-2.46827201049\u001b[0m\n",
      "\u001b[34m[01/05/2020 05:31:17 INFO 139712241891136] Epoch[15] Batch [5]#011Speed: 382.75 samples/sec#011loss=-2.468272\u001b[0m\n",
      "\u001b[34m[01/05/2020 05:31:18 INFO 139712241891136] processed a total of 1262 examples\u001b[0m\n",
      "\u001b[34m#metrics {\"Metrics\": {\"update.time\": {\"count\": 1, \"max\": 6218.5609340667725, \"sum\": 6218.5609340667725, \"min\": 6218.5609340667725}}, \"EndTime\": 1578202278.732464, \"Dimensions\": {\"Host\": \"algo-1\", \"Operation\": \"training\", \"Algorithm\": \"AWS/DeepAR\"}, \"StartTime\": 1578202272.513408}\n",
      "\u001b[0m\n",
      "\u001b[34m[01/05/2020 05:31:18 INFO 139712241891136] #throughput_metric: host=algo-1, train throughput=202.937871098 records/second\u001b[0m\n",
      "\u001b[34m[01/05/2020 05:31:18 INFO 139712241891136] #progress_metric: host=algo-1, completed 1 % of epochs\u001b[0m\n",
      "\u001b[34m[01/05/2020 05:31:18 INFO 139712241891136] #quality_metric: host=algo-1, epoch=15, train loss <loss>=-2.45898079872\u001b[0m\n",
      "\u001b[34m[01/05/2020 05:31:18 INFO 139712241891136] loss did not improve\u001b[0m\n",
      "\u001b[34m[01/05/2020 05:31:21 INFO 139712241891136] Epoch[16] Batch[0] avg_epoch_loss=-2.605114\u001b[0m\n",
      "\u001b[34m[01/05/2020 05:31:21 INFO 139712241891136] #quality_metric: host=algo-1, epoch=16, batch=0 train loss <loss>=-2.60511422157\u001b[0m\n",
      "\u001b[34m[01/05/2020 05:31:23 INFO 139712241891136] Epoch[16] Batch[5] avg_epoch_loss=-2.489430\u001b[0m\n",
      "\u001b[34m[01/05/2020 05:31:23 INFO 139712241891136] #quality_metric: host=algo-1, epoch=16, batch=5 train loss <loss>=-2.48942967256\u001b[0m\n",
      "\u001b[34m[01/05/2020 05:31:23 INFO 139712241891136] Epoch[16] Batch [5]#011Speed: 388.59 samples/sec#011loss=-2.489430\u001b[0m\n",
      "\u001b[34m[01/05/2020 05:31:25 INFO 139712241891136] Epoch[16] Batch[10] avg_epoch_loss=-2.440535\u001b[0m\n",
      "\u001b[34m[01/05/2020 05:31:25 INFO 139712241891136] #quality_metric: host=algo-1, epoch=16, batch=10 train loss <loss>=-2.38186047077\u001b[0m\n",
      "\u001b[34m[01/05/2020 05:31:25 INFO 139712241891136] Epoch[16] Batch [10]#011Speed: 327.85 samples/sec#011loss=-2.381860\u001b[0m\n",
      "\u001b[34m[01/05/2020 05:31:25 INFO 139712241891136] processed a total of 1298 examples\u001b[0m\n",
      "\u001b[34m#metrics {\"Metrics\": {\"update.time\": {\"count\": 1, \"max\": 6662.168979644775, \"sum\": 6662.168979644775, \"min\": 6662.168979644775}}, \"EndTime\": 1578202285.395194, \"Dimensions\": {\"Host\": \"algo-1\", \"Operation\": \"training\", \"Algorithm\": \"AWS/DeepAR\"}, \"StartTime\": 1578202278.732524}\n",
      "\u001b[0m\n",
      "\u001b[34m[01/05/2020 05:31:25 INFO 139712241891136] #throughput_metric: host=algo-1, train throughput=194.828110869 records/second\u001b[0m\n",
      "\u001b[34m[01/05/2020 05:31:25 INFO 139712241891136] #progress_metric: host=algo-1, completed 1 % of epochs\u001b[0m\n",
      "\u001b[34m[01/05/2020 05:31:25 INFO 139712241891136] #quality_metric: host=algo-1, epoch=16, train loss <loss>=-2.44053458084\u001b[0m\n",
      "\u001b[34m[01/05/2020 05:31:25 INFO 139712241891136] loss did not improve\u001b[0m\n",
      "\u001b[34m[01/05/2020 05:31:28 INFO 139712241891136] Epoch[17] Batch[0] avg_epoch_loss=-1.994971\u001b[0m\n",
      "\u001b[34m[01/05/2020 05:31:28 INFO 139712241891136] #quality_metric: host=algo-1, epoch=17, batch=0 train loss <loss>=-1.9949709177\u001b[0m\n",
      "\u001b[34m[01/05/2020 05:31:30 INFO 139712241891136] Epoch[17] Batch[5] avg_epoch_loss=-1.996397\u001b[0m\n",
      "\u001b[34m[01/05/2020 05:31:30 INFO 139712241891136] #quality_metric: host=algo-1, epoch=17, batch=5 train loss <loss>=-1.9963969787\u001b[0m\n",
      "\u001b[34m[01/05/2020 05:31:30 INFO 139712241891136] Epoch[17] Batch [5]#011Speed: 391.40 samples/sec#011loss=-1.996397\u001b[0m\n",
      "\u001b[34m[01/05/2020 05:31:32 INFO 139712241891136] Epoch[17] Batch[10] avg_epoch_loss=-2.061599\u001b[0m\n",
      "\u001b[34m[01/05/2020 05:31:32 INFO 139712241891136] #quality_metric: host=algo-1, epoch=17, batch=10 train loss <loss>=-2.13984246254\u001b[0m\n",
      "\u001b[34m[01/05/2020 05:31:32 INFO 139712241891136] Epoch[17] Batch [10]#011Speed: 325.56 samples/sec#011loss=-2.139842\u001b[0m\n",
      "\u001b[34m[01/05/2020 05:31:32 INFO 139712241891136] processed a total of 1319 examples\u001b[0m\n",
      "\u001b[34m#metrics {\"Metrics\": {\"update.time\": {\"count\": 1, \"max\": 6633.001089096069, \"sum\": 6633.001089096069, \"min\": 6633.001089096069}}, \"EndTime\": 1578202292.028773, \"Dimensions\": {\"Host\": \"algo-1\", \"Operation\": \"training\", \"Algorithm\": \"AWS/DeepAR\"}, \"StartTime\": 1578202285.395274}\n",
      "\u001b[0m\n",
      "\u001b[34m[01/05/2020 05:31:32 INFO 139712241891136] #throughput_metric: host=algo-1, train throughput=198.85067883 records/second\u001b[0m\n",
      "\u001b[34m[01/05/2020 05:31:32 INFO 139712241891136] #progress_metric: host=algo-1, completed 1 % of epochs\u001b[0m\n",
      "\u001b[34m[01/05/2020 05:31:32 INFO 139712241891136] #quality_metric: host=algo-1, epoch=17, train loss <loss>=-2.06159947135\u001b[0m\n",
      "\u001b[34m[01/05/2020 05:31:32 INFO 139712241891136] loss did not improve\u001b[0m\n",
      "\u001b[34m[01/05/2020 05:31:34 INFO 139712241891136] Epoch[18] Batch[0] avg_epoch_loss=-2.102401\u001b[0m\n",
      "\u001b[34m[01/05/2020 05:31:34 INFO 139712241891136] #quality_metric: host=algo-1, epoch=18, batch=0 train loss <loss>=-2.10240054131\u001b[0m\n",
      "\u001b[34m[01/05/2020 05:31:36 INFO 139712241891136] Epoch[18] Batch[5] avg_epoch_loss=-2.154105\u001b[0m\n",
      "\u001b[34m[01/05/2020 05:31:36 INFO 139712241891136] #quality_metric: host=algo-1, epoch=18, batch=5 train loss <loss>=-2.15410538514\u001b[0m\n",
      "\u001b[34m[01/05/2020 05:31:36 INFO 139712241891136] Epoch[18] Batch [5]#011Speed: 376.29 samples/sec#011loss=-2.154105\u001b[0m\n",
      "\u001b[34m[01/05/2020 05:31:38 INFO 139712241891136] processed a total of 1277 examples\u001b[0m\n",
      "\u001b[34m#metrics {\"Metrics\": {\"update.time\": {\"count\": 1, \"max\": 6247.913122177124, \"sum\": 6247.913122177124, \"min\": 6247.913122177124}}, \"EndTime\": 1578202298.277215, \"Dimensions\": {\"Host\": \"algo-1\", \"Operation\": \"training\", \"Algorithm\": \"AWS/DeepAR\"}, \"StartTime\": 1578202292.028853}\n",
      "\u001b[0m\n",
      "\u001b[34m[01/05/2020 05:31:38 INFO 139712241891136] #throughput_metric: host=algo-1, train throughput=204.384556279 records/second\u001b[0m\n",
      "\u001b[34m[01/05/2020 05:31:38 INFO 139712241891136] #progress_metric: host=algo-1, completed 1 % of epochs\u001b[0m\n",
      "\u001b[34m[01/05/2020 05:31:38 INFO 139712241891136] #quality_metric: host=algo-1, epoch=18, train loss <loss>=-2.2478685379\u001b[0m\n",
      "\u001b[34m[01/05/2020 05:31:38 INFO 139712241891136] loss did not improve\u001b[0m\n",
      "\u001b[34m[01/05/2020 05:31:38 INFO 139712241891136] Loading parameters from best epoch (8)\u001b[0m\n",
      "\u001b[34m#metrics {\"Metrics\": {\"state.deserialize.time\": {\"count\": 1, \"max\": 38.758039474487305, \"sum\": 38.758039474487305, \"min\": 38.758039474487305}}, \"EndTime\": 1578202298.316609, \"Dimensions\": {\"Host\": \"algo-1\", \"Operation\": \"training\", \"Algorithm\": \"AWS/DeepAR\"}, \"StartTime\": 1578202298.277293}\n",
      "\u001b[0m\n",
      "\u001b[34m[01/05/2020 05:31:38 INFO 139712241891136] stopping training now\u001b[0m\n",
      "\u001b[34m[01/05/2020 05:31:38 INFO 139712241891136] #progress_metric: host=algo-1, completed 100 % of epochs\u001b[0m\n",
      "\u001b[34m[01/05/2020 05:31:38 INFO 139712241891136] Final loss: -2.65133131634 (occurred at epoch 8)\u001b[0m\n",
      "\u001b[34m[01/05/2020 05:31:38 INFO 139712241891136] #quality_metric: host=algo-1, train final_loss <loss>=-2.65133131634\u001b[0m\n",
      "\u001b[34m[01/05/2020 05:31:38 INFO 139712241891136] Worker algo-1 finished training.\u001b[0m\n",
      "\u001b[34m[01/05/2020 05:31:38 WARNING 139712241891136] wait_for_all_workers will not sync workers since the kv store is not running distributed\u001b[0m\n",
      "\u001b[34m[01/05/2020 05:31:38 INFO 139712241891136] All workers finished. Serializing model for prediction.\u001b[0m\n",
      "\u001b[34m#metrics {\"Metrics\": {\"get_graph.time\": {\"count\": 1, \"max\": 1606.1320304870605, \"sum\": 1606.1320304870605, \"min\": 1606.1320304870605}}, \"EndTime\": 1578202299.923516, \"Dimensions\": {\"Host\": \"algo-1\", \"Operation\": \"training\", \"Algorithm\": \"AWS/DeepAR\"}, \"StartTime\": 1578202298.31669}\n",
      "\u001b[0m\n",
      "\u001b[34m[01/05/2020 05:31:40 INFO 139712241891136] Number of GPUs being used: 0\u001b[0m\n",
      "\u001b[34m#metrics {\"Metrics\": {\"finalize.time\": {\"count\": 1, \"max\": 1816.303014755249, \"sum\": 1816.303014755249, \"min\": 1816.303014755249}}, \"EndTime\": 1578202300.133639, \"Dimensions\": {\"Host\": \"algo-1\", \"Operation\": \"training\", \"Algorithm\": \"AWS/DeepAR\"}, \"StartTime\": 1578202299.923636}\n",
      "\u001b[0m\n",
      "\u001b[34m[01/05/2020 05:31:40 INFO 139712241891136] Serializing to /opt/ml/model/model_algo-1\u001b[0m\n",
      "\u001b[34m[01/05/2020 05:31:40 INFO 139712241891136] Saved checkpoint to \"/opt/ml/model/model_algo-1-0000.params\"\u001b[0m\n",
      "\u001b[34m#metrics {\"Metrics\": {\"model.serialize.time\": {\"count\": 1, \"max\": 14.782190322875977, \"sum\": 14.782190322875977, \"min\": 14.782190322875977}}, \"EndTime\": 1578202300.148528, \"Dimensions\": {\"Host\": \"algo-1\", \"Operation\": \"training\", \"Algorithm\": \"AWS/DeepAR\"}, \"StartTime\": 1578202300.133702}\n",
      "\u001b[0m\n",
      "\u001b[34m[01/05/2020 05:31:40 INFO 139712241891136] Successfully serialized the model for prediction.\u001b[0m\n",
      "\u001b[34m[01/05/2020 05:31:40 INFO 139712241891136] Evaluating model accuracy on testset using 100 samples\u001b[0m\n",
      "\u001b[34m#metrics {\"Metrics\": {\"model.bind.time\": {\"count\": 1, \"max\": 0.033855438232421875, \"sum\": 0.033855438232421875, \"min\": 0.033855438232421875}}, \"EndTime\": 1578202300.149327, \"Dimensions\": {\"Host\": \"algo-1\", \"Operation\": \"training\", \"Algorithm\": \"AWS/DeepAR\"}, \"StartTime\": 1578202300.148573}\n",
      "\u001b[0m\n",
      "\u001b[34m#metrics {\"Metrics\": {\"model.score.time\": {\"count\": 1, \"max\": 3854.640007019043, \"sum\": 3854.640007019043, \"min\": 3854.640007019043}}, \"EndTime\": 1578202304.003941, \"Dimensions\": {\"Host\": \"algo-1\", \"Operation\": \"training\", \"Algorithm\": \"AWS/DeepAR\"}, \"StartTime\": 1578202300.149381}\n",
      "\u001b[0m\n",
      "\u001b[34m[01/05/2020 05:31:44 INFO 139712241891136] #test_score (algo-1, RMSE): 0.0450364807064\u001b[0m\n",
      "\u001b[34m[01/05/2020 05:31:44 INFO 139712241891136] #test_score (algo-1, mean_wQuantileLoss): 0.116738096\u001b[0m\n",
      "\u001b[34m[01/05/2020 05:31:44 INFO 139712241891136] #test_score (algo-1, wQuantileLoss[0.1]): 0.06343372\u001b[0m\n",
      "\u001b[34m[01/05/2020 05:31:44 INFO 139712241891136] #test_score (algo-1, wQuantileLoss[0.2]): 0.08513081\u001b[0m\n",
      "\u001b[34m[01/05/2020 05:31:44 INFO 139712241891136] #test_score (algo-1, wQuantileLoss[0.3]): 0.109865144\u001b[0m\n",
      "\u001b[34m[01/05/2020 05:31:44 INFO 139712241891136] #test_score (algo-1, wQuantileLoss[0.4]): 0.13999456\u001b[0m\n",
      "\u001b[34m[01/05/2020 05:31:44 INFO 139712241891136] #test_score (algo-1, wQuantileLoss[0.5]): 0.15585269\u001b[0m\n",
      "\u001b[34m[01/05/2020 05:31:44 INFO 139712241891136] #test_score (algo-1, wQuantileLoss[0.6]): 0.16646999\u001b[0m\n",
      "\u001b[34m[01/05/2020 05:31:44 INFO 139712241891136] #test_score (algo-1, wQuantileLoss[0.7]): 0.15070055\u001b[0m\n",
      "\u001b[34m[01/05/2020 05:31:44 INFO 139712241891136] #test_score (algo-1, wQuantileLoss[0.8]): 0.11987995\u001b[0m\n",
      "\u001b[34m[01/05/2020 05:31:44 INFO 139712241891136] #test_score (algo-1, wQuantileLoss[0.9]): 0.0593155\u001b[0m\n",
      "\u001b[34m[01/05/2020 05:31:44 INFO 139712241891136] #quality_metric: host=algo-1, test mean_wQuantileLoss <loss>=0.11673809588\u001b[0m\n",
      "\u001b[34m[01/05/2020 05:31:44 INFO 139712241891136] #quality_metric: host=algo-1, test RMSE <loss>=0.0450364807064\u001b[0m\n",
      "\u001b[34m#metrics {\"Metrics\": {\"totaltime\": {\"count\": 1, \"max\": 135249.34482574463, \"sum\": 135249.34482574463, \"min\": 135249.34482574463}, \"setuptime\": {\"count\": 1, \"max\": 8.787870407104492, \"sum\": 8.787870407104492, \"min\": 8.787870407104492}}, \"EndTime\": 1578202304.111946, \"Dimensions\": {\"Host\": \"algo-1\", \"Operation\": \"training\", \"Algorithm\": \"AWS/DeepAR\"}, \"StartTime\": 1578202304.004024}\n",
      "\u001b[0m\n",
      "\n",
      "2020-01-05 05:31:54 Uploading - Uploading generated training model\n",
      "2020-01-05 05:31:54 Completed - Training job completed\n",
      "Training seconds: 189\n",
      "Billable seconds: 189\n",
      "CPU times: user 736 ms, sys: 64.8 ms, total: 801 ms\n",
      "Wall time: 5min 43s\n"
     ]
    }
   ],
   "source": [
    "%%time\n",
    "# train and test channels\n",
    "data_channels = {\n",
    "    \"train\": train_s3_path,\n",
    "    \"test\": test_s3_path\n",
    "}\n",
    "\n",
    "# fit the estimator\n",
    "estimator.fit(inputs=data_channels)"
   ]
  },
  {
   "cell_type": "markdown",
   "metadata": {},
   "source": [
    "## Deploy and Create a Predictor\n",
    "\n",
    "Now that we have trained a model, we can use it to perform predictions by deploying it to a predictor endpoint.\n",
    "\n",
    "Remember to **delete the endpoint** at the end of this notebook. A cell at the very bottom of this notebook will be provided, but it is always good to keep, front-of-mind."
   ]
  },
  {
   "cell_type": "code",
   "execution_count": null,
   "metadata": {},
   "outputs": [
    {
     "name": "stdout",
     "output_type": "stream",
     "text": [
      "-----------------------------------------------------------------------------------------"
     ]
    }
   ],
   "source": [
    "# %%time\n",
    "\n",
    "# # create a predictor\n",
    "# predictor = estimator.deploy(\n",
    "#     initial_instance_count=1,\n",
    "#     instance_type='ml.t2.medium',\n",
    "#     content_type=\"application/json\" # specify that it will accept/produce JSON\n",
    "# )"
   ]
  },
  {
   "cell_type": "code",
   "execution_count": 33,
   "metadata": {},
   "outputs": [
    {
     "data": {
      "text/plain": [
       "'forecasting-deepar-2020-01-05-04-42-16-742'"
      ]
     },
     "execution_count": 33,
     "metadata": {},
     "output_type": "execute_result"
    }
   ],
   "source": [
    "estimator._current_job_name"
   ]
  },
  {
   "cell_type": "markdown",
   "metadata": {},
   "source": [
    "## Create endpoint from job name"
   ]
  },
  {
   "cell_type": "code",
   "execution_count": 91,
   "metadata": {},
   "outputs": [
    {
     "ename": "ValueError",
     "evalue": "Endpoint with name \"forecasting-deepar-2020-01-05-05-26-40-533\" already exists; please pick a different name.",
     "output_type": "error",
     "traceback": [
      "\u001b[0;31m---------------------------------------------------------------------------\u001b[0m",
      "\u001b[0;31mValueError\u001b[0m                                Traceback (most recent call last)",
      "\u001b[0;32m<ipython-input-91-58cfe9e6470f>\u001b[0m in \u001b[0;36m<module>\u001b[0;34m()\u001b[0m\n\u001b[1;32m      8\u001b[0m     \u001b[0minstance_type\u001b[0m\u001b[0;34m=\u001b[0m\u001b[0;34m'ml.m4.xlarge'\u001b[0m\u001b[0;34m,\u001b[0m\u001b[0;34m\u001b[0m\u001b[0m\n\u001b[1;32m      9\u001b[0m     \u001b[0mdeployment_image\u001b[0m\u001b[0;34m=\u001b[0m\u001b[0mimage_name\u001b[0m\u001b[0;34m,\u001b[0m\u001b[0;34m\u001b[0m\u001b[0m\n\u001b[0;32m---> 10\u001b[0;31m     \u001b[0mrole\u001b[0m\u001b[0;34m=\u001b[0m\u001b[0mrole\u001b[0m\u001b[0;34m\u001b[0m\u001b[0m\n\u001b[0m\u001b[1;32m     11\u001b[0m )\n",
      "\u001b[0;32m~/anaconda3/envs/amazonei_mxnet_p36/lib/python3.6/site-packages/sagemaker/session.py\u001b[0m in \u001b[0;36mendpoint_from_job\u001b[0;34m(self, job_name, initial_instance_count, instance_type, deployment_image, name, role, wait, model_environment_vars, vpc_config_override, accelerator_type, data_capture_config)\u001b[0m\n\u001b[1;32m   2669\u001b[0m             \u001b[0mmodel_vpc_config\u001b[0m\u001b[0;34m=\u001b[0m\u001b[0mvpc_config_override\u001b[0m\u001b[0;34m,\u001b[0m\u001b[0;34m\u001b[0m\u001b[0m\n\u001b[1;32m   2670\u001b[0m             \u001b[0maccelerator_type\u001b[0m\u001b[0;34m=\u001b[0m\u001b[0maccelerator_type\u001b[0m\u001b[0;34m,\u001b[0m\u001b[0;34m\u001b[0m\u001b[0m\n\u001b[0;32m-> 2671\u001b[0;31m             \u001b[0mdata_capture_config\u001b[0m\u001b[0;34m=\u001b[0m\u001b[0mdata_capture_config\u001b[0m\u001b[0;34m,\u001b[0m\u001b[0;34m\u001b[0m\u001b[0m\n\u001b[0m\u001b[1;32m   2672\u001b[0m         )\n\u001b[1;32m   2673\u001b[0m \u001b[0;34m\u001b[0m\u001b[0m\n",
      "\u001b[0;32m~/anaconda3/envs/amazonei_mxnet_p36/lib/python3.6/site-packages/sagemaker/session.py\u001b[0m in \u001b[0;36mendpoint_from_model_data\u001b[0;34m(self, model_s3_location, deployment_image, initial_instance_count, instance_type, name, role, wait, model_environment_vars, model_vpc_config, accelerator_type, data_capture_config)\u001b[0m\n\u001b[1;32m   2729\u001b[0m         ):\n\u001b[1;32m   2730\u001b[0m             raise ValueError(\n\u001b[0;32m-> 2731\u001b[0;31m                 \u001b[0;34m'Endpoint with name \"{}\" already exists; please pick a different name.'\u001b[0m\u001b[0;34m.\u001b[0m\u001b[0mformat\u001b[0m\u001b[0;34m(\u001b[0m\u001b[0mname\u001b[0m\u001b[0;34m)\u001b[0m\u001b[0;34m\u001b[0m\u001b[0m\n\u001b[0m\u001b[1;32m   2732\u001b[0m             )\n\u001b[1;32m   2733\u001b[0m \u001b[0;34m\u001b[0m\u001b[0m\n",
      "\u001b[0;31mValueError\u001b[0m: Endpoint with name \"forecasting-deepar-2020-01-05-05-26-40-533\" already exists; please pick a different name."
     ]
    }
   ],
   "source": [
    "# job_name = \"forecasting-deepar-2019-11-21-07-41-20-349\"\n",
    "\n",
    "job_name = estimator._current_job_name\n",
    "\n",
    "endpoint_name = sagemaker_session.endpoint_from_job(\n",
    "    job_name=job_name,\n",
    "    initial_instance_count=1,\n",
    "    instance_type='ml.m4.xlarge',\n",
    "    deployment_image=image_name,\n",
    "    role=role\n",
    ")"
   ]
  },
  {
   "cell_type": "code",
   "execution_count": 23,
   "metadata": {},
   "outputs": [],
   "source": [
    "# endpoint_name = \"forecasting-deepar-2019-11-21-07-41-20-349\""
   ]
  },
  {
   "cell_type": "code",
   "execution_count": 92,
   "metadata": {},
   "outputs": [],
   "source": [
    "import json \n",
    "\n",
    "class DeepARPredictor(sagemaker.predictor.RealTimePredictor):\n",
    "\n",
    "    def set_prediction_parameters(self, freq, prediction_length, target_col):\n",
    "        \"\"\"Set the time frequency and prediction length parameters. This method **must** be called\n",
    "        before being able to use `predict`.\n",
    "        \n",
    "        Parameters:\n",
    "        freq -- string indicating the time frequency\n",
    "        prediction_length -- integer, number of predicted time points\n",
    "        \n",
    "        Return value: none.\n",
    "        \"\"\"\n",
    "        self.freq = freq\n",
    "        self.prediction_length = prediction_length\n",
    "        self.target_col = target_col\n",
    "        \n",
    "    def predict(self, ts, cat=None, encoding=\"utf-8\", num_samples=100, quantiles=[\"0.1\", \"0.5\", \"0.9\"]):\n",
    "        \"\"\"Requests the prediction of for the time series listed in `ts`, each with the (optional)\n",
    "        corresponding category listed in `cat`.\n",
    "        \n",
    "        Parameters:\n",
    "        ts -- list of `pandas.Series` objects, the time series to predict\n",
    "        cat -- list of integers (default: None)\n",
    "        encoding -- string, encoding to use for the request (default: \"utf-8\")\n",
    "        num_samples -- integer, number of samples to compute at prediction time (default: 100)\n",
    "        quantiles -- list of strings specifying the quantiles to compute (default: [\"0.1\", \"0.5\", \"0.9\"])\n",
    "        \n",
    "        Return value: list of `pandas.DataFrame` objects, each containing the predictions\n",
    "        \"\"\"\n",
    "        prediction_times = [x.index[-self.prediction_length]+1 for x in ts]\n",
    "        req = self.__encode_request(ts, cat, encoding, num_samples, quantiles)\n",
    "        res = super(DeepARPredictor, self).predict(req)\n",
    "        return self.__decode_response(res, prediction_times, encoding)\n",
    "    \n",
    "    def __encode_request(self, ts, cat, encoding, num_samples, quantiles):\n",
    "#         instances = self.series_to_jsons(ts, self.target_col)\n",
    "        json_objs = []\n",
    "        for ts_i in ts:\n",
    "            json_objs.append(series_to_json(ts_i, self.target_col, self.prediction_length))\n",
    "        configuration = {\"num_samples\": num_samples, \"output_types\": [\"quantiles\"], \"quantiles\": quantiles}\n",
    "        http_request_data = {\"instances\": json_objs, \"configuration\": configuration}\n",
    "        return json.dumps(http_request_data).encode(encoding)\n",
    "    \n",
    "    def __decode_response(self, response, prediction_times, encoding):\n",
    "        response_data = json.loads(response.decode(encoding))\n",
    "        list_of_df = []\n",
    "        for k in range(len(prediction_times)):\n",
    "            prediction_index = pd.DatetimeIndex(start=prediction_times[k], freq=self.freq, periods=self.prediction_length)\n",
    "            list_of_df.append(pd.DataFrame(data=response_data['predictions'][k]['quantiles'], index=prediction_index))\n",
    "        return list_of_df\n",
    "    "
   ]
  },
  {
   "cell_type": "code",
   "execution_count": 93,
   "metadata": {},
   "outputs": [],
   "source": [
    "predictor = DeepARPredictor(\n",
    "    endpoint=endpoint_name,\n",
    "    sagemaker_session=sagemaker_session,\n",
    "    content_type=\"application/json\"\n",
    ")\n",
    "\n",
    "target_col = \"CabFlowMean\"\n",
    "predictor.set_prediction_parameters(freq, prediction_length, target_col)"
   ]
  },
  {
   "cell_type": "code",
   "execution_count": 94,
   "metadata": {},
   "outputs": [
    {
     "data": {
      "text/plain": [
       "<matplotlib.axes._subplots.AxesSubplot at 0x7f0f1bb532e8>"
      ]
     },
     "execution_count": 94,
     "metadata": {},
     "output_type": "execute_result"
    },
    {
     "data": {
      "image/png": "[encoded data removed]",
      "text/plain": [
       "<Figure size 432x288 with 1 Axes>"
      ]
     },
     "metadata": {},
     "output_type": "display_data"
    }
   ],
   "source": [
    "# CabFlowMean\n",
    "# CabRainTotal\n",
    "test_all_ts_data['CabFlowMean'][600:692].plot()\n"
   ]
  },
  {
   "cell_type": "code",
   "execution_count": 95,
   "metadata": {},
   "outputs": [
    {
     "data": {
      "text/plain": [
       "<matplotlib.axes._subplots.AxesSubplot at 0x7f0f1b983828>"
      ]
     },
     "execution_count": 95,
     "metadata": {},
     "output_type": "execute_result"
    },
    {
     "data": {
      "image/png": "[encoded data removed]",
      "text/plain": [
       "<Figure size 432x288 with 1 Axes>"
      ]
     },
     "metadata": {},
     "output_type": "display_data"
    }
   ],
   "source": [
    "prediction_series[0].plot()"
   ]
  },
  {
   "cell_type": "code",
   "execution_count": 96,
   "metadata": {},
   "outputs": [
    {
     "name": "stderr",
     "output_type": "stream",
     "text": [
      "/home/ec2-user/anaconda3/envs/amazonei_mxnet_p36/lib/python3.6/site-packages/ipykernel/__main__.py:32: FutureWarning: Addition/subtraction of integers and integer-arrays to Timestamp is deprecated, will be removed in a future version.  Instead of adding/subtracting `n`, use `n * self.freq`\n",
      "/home/ec2-user/anaconda3/envs/amazonei_mxnet_p36/lib/python3.6/site-packages/ipykernel/__main__.py:50: FutureWarning: Creating a DatetimeIndex by passing range endpoints is deprecated.  Use `pandas.date_range` instead.\n"
     ]
    }
   ],
   "source": [
    "original_series = test_all_ts_data[600:705]\n",
    "prediction_series = predictor.predict([original_series])\n",
    "\n"
   ]
  },
  {
   "cell_type": "code",
   "execution_count": 97,
   "metadata": {},
   "outputs": [],
   "source": [
    "# display the prediction median against the actual data\n",
    "def display_quantiles(prediction_list, target_ts=None):\n",
    "    # show predictions for all input ts\n",
    "    for k in range(len(prediction_list)):\n",
    "        plt.figure(figsize=(12,6))\n",
    "        # get the target month of data\n",
    "        if target_ts is not None:\n",
    "#             target = target_ts[k][-prediction_length:]\n",
    "            target_ts[k].plot(label='target')\n",
    "        # get the quantile values at 10 and 90%\n",
    "        p10 = prediction_list[k]['0.1']\n",
    "        p90 = prediction_list[k]['0.9']\n",
    "        # fill the 80% confidence interval\n",
    "        plt.fill_between(p10.index, p10, p90, color='y', alpha=0.5, label='80% confidence interval')\n",
    "        # plot the median prediction line\n",
    "        prediction_list[k]['0.5'].plot(label='prediction median')\n",
    "        plt.legend()\n",
    "        plt.show()"
   ]
  },
  {
   "cell_type": "code",
   "execution_count": 98,
   "metadata": {},
   "outputs": [
    {
     "data": {
      "image/png": "[encoded data removed]",
      "text/plain": [
       "<Figure size 864x432 with 1 Axes>"
      ]
     },
     "metadata": {},
     "output_type": "display_data"
    }
   ],
   "source": [
    "display_quantiles(prediction_series, target_ts=[original_series['CabFlowMean']])"
   ]
  },
  {
   "cell_type": "code",
   "execution_count": null,
   "metadata": {},
   "outputs": [],
   "source": []
  }
 ],
 "metadata": {
  "kernelspec": {
   "display_name": "conda_amazonei_mxnet_p36",
   "language": "python",
   "name": "conda_amazonei_mxnet_p36"
  },
  "language_info": {
   "codemirror_mode": {
    "name": "ipython",
    "version": 3
   },
   "file_extension": ".py",
   "mimetype": "text/x-python",
   "name": "python",
   "nbconvert_exporter": "python",
   "pygments_lexer": "ipython3",
   "version": "3.6.5"
  }
 },
 "nbformat": 4,
 "nbformat_minor": 4
}
