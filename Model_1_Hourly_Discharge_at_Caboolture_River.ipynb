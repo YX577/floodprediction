{
 "cells": [
  {
   "cell_type": "markdown",
   "metadata": {},
   "source": [
    "# Flood Prediction Model 1 - Hourly Discharge at Caboolture River\n",
    "\n",
    "The Objective of this notebook is to create a flood prediction model for the Caboolture River at Upper Caboolture. We will use hourly rainfall data and an hourly discharge as the target time series and a single hourly rainfall time series as input variable. This model will be used for comparision with [RORB](https://www.monash.edu/engineering/departments/civil/research/themes/water/rorb)’s predictions.\n",
    "\n",
    "## Benchmark Model\n",
    "\n",
    "[RORB](https://www.monash.edu/engineering/departments/civil/research/themes/water/rorb) model is generally employed for calculating design flood discharges. It uses many assumptions and is manually calibrated to one flooding event. This will be used as benchmark model for comparison purpose.\n",
    "\n",
    "## Data Set\n",
    "The hydrological data available at [Queensland Water Monitoring Information Portal](https://water-monitoring.information.qld.gov.au/) will be used. Hourly as well as daily water flow data is available at various stations. Rainfall data is available in some of the stations. For the Caboolture River, only single discharge and rainfal station is available. \n",
    "\n",
    "\n",
    "\n",
    "### Work Workflow\n",
    "\n",
    "* Preprocessing and exploring the data\n",
    "* Creating training and test sets of time series\n",
    "* Formatting data as JSON files and uploading to S3\n",
    "* Instantiating and training a DeepAR estimator\n",
    "* Deploying a model and creating a predictor\n",
    "* Comparing the Predictor with RORB's performance"
   ]
  },
  {
   "cell_type": "markdown",
   "metadata": {},
   "source": [
    "# Preprocessing and exploring the data\n",
    "\n",
    "The raw data for Caboolture River is available at raw_data/Caboolture folder. "
   ]
  },
  {
   "cell_type": "code",
   "execution_count": 5,
   "metadata": {},
   "outputs": [],
   "source": [
    "import os\n",
    "import numpy as np\n",
    "import pandas as pd\n",
    "import matplotlib.pyplot as plt\n",
    "%matplotlib inline\n"
   ]
  },
  {
   "cell_type": "code",
   "execution_count": 48,
   "metadata": {},
   "outputs": [
    {
     "name": "stdout",
     "output_type": "stream",
     "text": [
      "Archive:  ./raw_data/Caboolture/142001A_20191103_rain.zip\n",
      "  inflating: ./raw_data/Caboolture/142001A_20191103_rain/142001A.csv  \n",
      "  inflating: ./raw_data/Caboolture/142001A_20191103_rain/Copyright.pdf  \n",
      "  inflating: ./raw_data/Caboolture/142001A_20191103_rain/Disclaimer.pdf  \n",
      "  inflating: ./raw_data/Caboolture/142001A_20191103_rain/webglossary.pdf  \n",
      "unzipped 142001A_20191103_rain.zip!\n",
      "Archive:  ./raw_data/Caboolture/142001A_20191103_flow.zip\n",
      "  inflating: ./raw_data/Caboolture/142001A_20191103_flow/142001A.csv  \n",
      "  inflating: ./raw_data/Caboolture/142001A_20191103_flow/Copyright.pdf  \n",
      "  inflating: ./raw_data/Caboolture/142001A_20191103_flow/Disclaimer.pdf  \n",
      "  inflating: ./raw_data/Caboolture/142001A_20191103_flow/webglossary.pdf  \n",
      "unzipped 142001A_20191103_flow.zip!\n",
      "['./raw_data/Caboolture/142001A_20191103_flow/142001A.csv']\n",
      "['./raw_data/Caboolture/142001A_20191103_rain/142001A.csv']\n"
     ]
    }
   ],
   "source": [
    "# Cabooltre directory\n",
    "data_dir = './raw_data/Caboolture'\n",
    "target_name = '142001A_20191103_flow' # folder name containing target time series\n",
    "\n",
    "# Zip data files in Caboolture folder\n",
    "zip_files = os.listdir(data_dir)\n",
    "\n",
    "# List to store path to the csv files\n",
    "other_csv_paths = [] \n",
    "target_csv_paths = []\n",
    "\n",
    "for zip_file in zip_files:\n",
    "    if '.zip' in zip_file:\n",
    "        # Directory name to extract contents of zip file\n",
    "        zip_dir = data_dir + '/' + zip_file.split('.')[0]\n",
    "        \n",
    "        # Delete directory if it exists\n",
    "        if os.path.exists(zip_dir):\n",
    "            !rm -r {zip_dir}\n",
    "        \n",
    "        # Create dir and unzip\n",
    "        ! mkdir {zip_dir}\n",
    "        ! unzip {data_dir}/{zip_file} -d {zip_dir}\n",
    "        print('unzipped {}!'.format(zip_file))\n",
    "        \n",
    "        # Save path to csv\n",
    "        for file_name in os.listdir(zip_dir):\n",
    "            if '.csv' in file_name:\n",
    "                if target_name in zip_dir:\n",
    "                    target_csv_paths.append('{}/{}'.format(zip_dir,file_name))\n",
    "                else:\n",
    "                    other_csv_paths.append('{}/{}'.format(zip_dir,file_name))\n",
    "\n",
    "print(target_csv_paths)\n",
    "print(other_csv_paths)"
   ]
  },
  {
   "cell_type": "code",
   "execution_count": 49,
   "metadata": {},
   "outputs": [
    {
     "name": "stderr",
     "output_type": "stream",
     "text": [
      "/home/ec2-user/anaconda3/envs/amazonei_mxnet_p36/lib/python3.6/site-packages/IPython/core/interactiveshell.py:2785: DtypeWarning: Columns (1,2,3,4,5,6) have mixed types. Specify dtype option on import or set low_memory=False.\n",
      "  interactivity=interactivity, compiler=compiler, result=result)\n"
     ]
    }
   ],
   "source": [
    "\n",
    "\n",
    "target_raw_data = pd.read_csv(target_csv_paths[0])"
   ]
  },
  {
   "cell_type": "code",
   "execution_count": 41,
   "metadata": {},
   "outputs": [
    {
     "data": {
      "text/plain": [
       "True"
      ]
     },
     "execution_count": 41,
     "metadata": {},
     "output_type": "execute_result"
    }
   ],
   "source": []
  },
  {
   "cell_type": "code",
   "execution_count": null,
   "metadata": {},
   "outputs": [],
   "source": []
  }
 ],
 "metadata": {
  "kernelspec": {
   "display_name": "conda_amazonei_mxnet_p36",
   "language": "python",
   "name": "conda_amazonei_mxnet_p36"
  },
  "language_info": {
   "codemirror_mode": {
    "name": "ipython",
    "version": 3
   },
   "file_extension": ".py",
   "mimetype": "text/x-python",
   "name": "python",
   "nbconvert_exporter": "python",
   "pygments_lexer": "ipython3",
   "version": "3.6.5"
  }
 },
 "nbformat": 4,
 "nbformat_minor": 4
}
