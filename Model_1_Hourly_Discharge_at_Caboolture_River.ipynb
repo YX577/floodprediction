{
 "cells": [
  {
   "cell_type": "markdown",
   "metadata": {},
   "source": [
    "# Flood Prediction Model 1 - Hourly Discharge at Caboolture River\n",
    "\n",
    "The Objective of this notebook is to create a flood prediction model for the Caboolture River at Upper Caboolture. We will use hourly rainfall data and an hourly discharge as the target time series and a single hourly rainfall time series as input variable. This model will be used for comparision with [RORB](https://www.monash.edu/engineering/departments/civil/research/themes/water/rorb)’s predictions.\n",
    "\n",
    "## Benchmark Model\n",
    "\n",
    "[RORB](https://www.monash.edu/engineering/departments/civil/research/themes/water/rorb) model is generally employed for calculating design flood discharges. It uses many assumptions and is manually calibrated to one flooding event. This will be used as benchmark model for comparison purpose.\n",
    "\n",
    "## Data Set\n",
    "The hydrological data available at [Queensland Water Monitoring Information Portal](https://water-monitoring.information.qld.gov.au/) will be used. Hourly as well as daily water flow data is available at various stations. Rainfall data is available in some of the stations. For the Caboolture River, only single discharge and rainfal station is available. \n",
    "\n",
    "\n",
    "\n",
    "### Work Workflow\n",
    "\n",
    "* Preprocessing and exploring the data\n",
    "* Creating training and test sets of time series\n",
    "* Formatting data as JSON files and uploading to S3\n",
    "* Instantiating and training a DeepAR estimator\n",
    "* Deploying a model and creating a predictor\n",
    "* Comparing the Predictor with RORB's performance"
   ]
  },
  {
   "cell_type": "markdown",
   "metadata": {},
   "source": [
    "# Preprocessing and exploring the data\n",
    "\n",
    "The raw data for Caboolture River is available at raw_data/Caboolture folder. "
   ]
  }
 ],
 "metadata": {
  "kernelspec": {
   "display_name": "conda_amazonei_mxnet_p36",
   "language": "python",
   "name": "conda_amazonei_mxnet_p36"
  },
  "language_info": {
   "codemirror_mode": {
    "name": "ipython",
    "version": 3
   },
   "file_extension": ".py",
   "mimetype": "text/x-python",
   "name": "python",
   "nbconvert_exporter": "python",
   "pygments_lexer": "ipython3",
   "version": "3.6.5"
  }
 },
 "nbformat": 4,
 "nbformat_minor": 4
}
